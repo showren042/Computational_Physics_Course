{
 "cells": [
  {
   "cell_type": "code",
   "execution_count": null,
   "metadata": {
    "collapsed": true
   },
   "outputs": [],
   "source": [
    "# fftpoi - Program to solve the Poisson equation using \n",
    "# MFT method (periodic boundary conditions)\n",
    "\n",
    "# Set up configuration options and special features\n",
    "import numpy as np\n",
    "import matplotlib.pyplot as plt"
   ]
  },
  {
   "cell_type": "code",
   "execution_count": null,
   "metadata": {
    "collapsed": false
   },
   "outputs": [],
   "source": [
    "#* Initialize parameters (system size, grid spacing, etc.)\n",
    "eps0 = 8.8542e-12    # Permittivity (C^2/(N m^2))\n",
    "N = 50    # Number of grid points on a side (square grid)\n",
    "L = 1.    # System size\n",
    "h = L/N   # Grid spacing for periodic boundary conditions\n",
    "x = (np.arange(N) + 1./2)*h    # Coordinates  of grid points\n",
    "y = np.copy(x)                 # Square grid\n",
    "print 'System is a square of length ', L"
   ]
  },
  {
   "cell_type": "code",
   "execution_count": null,
   "metadata": {
    "collapsed": false
   },
   "outputs": [],
   "source": [
    "#* Set up charge density rho(i,j) \n",
    "rho = np.zeros((N,N));  # Initialize charge density to zero\n",
    "M = input('Enter number of line charges: ')\n",
    "for i in range(M) :\n",
    "    print '  For charge #', i\n",
    "    r = input('Enter position [x, y]: ') \n",
    "    ii=int(r[0]/h + 0.5)    # Place charge at nearest\n",
    "    jj=int(r[1]/h + 0.5)    # grid point\n",
    "    q = input('Enter charge density: ') \n",
    "    rho[ii,jj] += q/h**2"
   ]
  },
  {
   "cell_type": "code",
   "execution_count": null,
   "metadata": {
    "collapsed": false
   },
   "outputs": [],
   "source": [
    "#* Compute matrix P\n",
    "cx = np.cos( (2*np.pi/N) * np.arange(N) )\n",
    "cy = np.copy(cx)\n",
    "numerator = -h**2/(2.*eps0)\n",
    "tinyNumber = 1e-20;  # Avoids division by zero\n",
    "P = np.empty((N,N))\n",
    "for i in range(N) :\n",
    "    for j in range(N) :\n",
    "        P[i,j] = numerator/(cx[i]+cy[j]-2.+tinyNumber)"
   ]
  },
  {
   "cell_type": "code",
   "execution_count": null,
   "metadata": {
    "collapsed": false
   },
   "outputs": [],
   "source": [
    "#* Compute potential using MFT method\n",
    "rhoT = np.fft.fft2(rho)    # Transform rho into wavenumber domain\n",
    "phiT = rhoT * P            # Computing phi in the wavenumber domain\n",
    "phi = np.fft.ifft2(phiT);  # Inv. transf. phi into the coord. domain\n",
    "phi = np.real(phi);        # Clean up imaginary part due to round-off\n",
    "\n",
    "#* Compute electric field as E = - grad phi\n",
    "[Ex, Ey] = np.gradient(np.flipud(np.rot90(phi))) \n",
    "for i in range(N) :\n",
    "    for j in range(N) :\n",
    "        magnitude = np.sqrt(Ex[i,j]**2 + Ey[i,j]**2)         \n",
    "        Ex[i,j] /= -magnitude     # Normalize components so\n",
    "        Ey[i,j] /= -magnitude     # vectors have equal length"
   ]
  },
  {
   "cell_type": "code",
   "execution_count": null,
   "metadata": {
    "collapsed": false
   },
   "outputs": [],
   "source": [
    "#* Plot potential\n",
    "from matplotlib import cm\n",
    "from mpl_toolkits.mplot3d import Axes3D\n",
    "\n",
    "fig = plt.figure()\n",
    "ax = fig.gca(projection = '3d')\n",
    "Xp, Yp = np.meshgrid(x, y)\n",
    "ax.contour(Xp,Yp,np.flipud(np.rot90(phi)),35)\n",
    "ax.set_xlabel('x')\n",
    "ax.set_ylabel('y')\n",
    "ax.set_zlabel(r'$\\Phi(x,y)$')\n",
    "plt.show()"
   ]
  },
  {
   "cell_type": "code",
   "execution_count": null,
   "metadata": {
    "collapsed": false
   },
   "outputs": [],
   "source": [
    "#* Plot electric field\n",
    "plt.quiver(Xp,Yp,Ey,Ex)        # Plot E field with vectors\n",
    "plt.title('E field (Direction)') \n",
    "plt.xlabel('x')\n",
    "plt.ylabel('y')\n",
    "plt.axis('square')  \n",
    "plt.axis([0., L, 0., L])\n",
    "plt.show()"
   ]
  }
 ],
 "metadata": {
  "anaconda-cloud": {},
  "kernelspec": {
   "display_name": "Python [default]",
   "language": "python",
   "name": "python2"
  },
  "language_info": {
   "codemirror_mode": {
    "name": "ipython",
    "version": 2
   },
   "file_extension": ".py",
   "mimetype": "text/x-python",
   "name": "python",
   "nbconvert_exporter": "python",
   "pygments_lexer": "ipython2",
   "version": "2.7.12"
  }
 },
 "nbformat": 4,
 "nbformat_minor": 1
}
