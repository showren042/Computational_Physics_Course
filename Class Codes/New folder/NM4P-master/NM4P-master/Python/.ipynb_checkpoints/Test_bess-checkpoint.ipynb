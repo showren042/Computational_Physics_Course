{
 "cells": [
  {
   "cell_type": "code",
   "execution_count": 1,
   "metadata": {
    "collapsed": false
   },
   "outputs": [
    {
     "name": "stdout",
     "output_type": "stream",
     "text": [
      "Populating the interactive namespace from numpy and matplotlib\n"
     ]
    }
   ],
   "source": [
    "#  test_legndr - Program to test the legndr function\n",
    "\n",
    "# Set up configuration options and special features\n",
    "%pylab inline "
   ]
  },
  {
   "cell_type": "code",
   "execution_count": 2,
   "metadata": {
    "collapsed": false
   },
   "outputs": [],
   "source": [
    "def legndr(n,x) :\n",
    "    # Legendre polynomials function\n",
    "    # Inputs  \n",
    "    #    n = Highest order polynomial returned\n",
    "    #    x = Value at which polynomial is evaluated\n",
    "    # Output\n",
    "    #    p = Vector containing P(x) for order 0,1,...,n\n",
    "\n",
    "    #* Perform upward recursion\n",
    "    p = empty(n+1)\n",
    "    p[0] = 1.      # P(x) for n=0\n",
    "    if n == 0 :\n",
    "        return p\n",
    "    p[1] = x       # P(x) for n=1\n",
    "    if n == 1 :\n",
    "        return p\n",
    "    \n",
    "    # Use upward recursion to obtain other n's\n",
    "    for i in range(1,n) :\n",
    "        p[i+1] = ((2*i+1)*x*p[i] - i*p[i-1])/(i+1)\n",
    "\n",
    "    return p"
   ]
  },
  {
   "cell_type": "code",
   "execution_count": 3,
   "metadata": {
    "collapsed": false
   },
   "outputs": [
    {
     "name": "stdout",
     "output_type": "stream",
     "text": [
      "Enter x: 3.\n",
      "For n=0; Computed =  1.0  Expected = 1\n",
      "For n=1; Computed =  3.0  Expected =  3.0\n",
      "For n=2; Computed =  13.0  Expected =  13.0\n",
      "For n=3; Computed =  63.0  Expected =  63.0\n",
      "For n=4; Computed =  321.0  Expected =  321.0\n",
      "For n=5; Computed =  1683.0  Expected =  1683.0\n"
     ]
    }
   ],
   "source": [
    "x = input(\"Enter x: \")\n",
    "n = 5\n",
    "\n",
    "p = empty(n)\n",
    "p = legndr(n,x)\n",
    "\n",
    "print \"For n=0; Computed = \", p[0], \" Expected = 1\"\n",
    "print \"For n=1; Computed = \", p[1], \" Expected = \", x\n",
    "print \"For n=2; Computed = \", p[2], \" Expected = \", 0.5*(3*x*x-1)\n",
    "print \"For n=3; Computed = \", p[3], \" Expected = \", 0.5*(5*x*x*x-3*x)\n",
    "print \"For n=4; Computed = \", p[4], \" Expected = \", 0.125*(35*x*x*x*x-30*x*x+3)\n",
    "print \"For n=5; Computed = \", p[5], \" Expected = \", 0.125*(63*x*x*x*x*x-70*x*x*x+15*x) "
   ]
  }
 ],
 "metadata": {
  "kernelspec": {
   "display_name": "Python [default]",
   "language": "python",
   "name": "python2"
  },
  "language_info": {
   "codemirror_mode": {
    "name": "ipython",
    "version": 2
   },
   "file_extension": ".py",
   "mimetype": "text/x-python",
   "name": "python",
   "nbconvert_exporter": "python",
   "pygments_lexer": "ipython2",
   "version": "2.7.12"
  }
 },
 "nbformat": 4,
 "nbformat_minor": 1
}
