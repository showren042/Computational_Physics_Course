{
 "cells": [
  {
   "cell_type": "code",
   "execution_count": null,
   "metadata": {
    "collapsed": false
   },
   "outputs": [],
   "source": [
    "# orbit - Program to compute the orbit of a comet.\n",
    "\n",
    "# Set up configuration options and special features\n",
    "import numpy as np\n",
    "import matplotlib.pyplot as plt\n",
    "%matplotlib inline"
   ]
  },
  {
   "cell_type": "code",
   "execution_count": null,
   "metadata": {
    "collapsed": true
   },
   "outputs": [],
   "source": [
    "def gravrk(s,t,GM):\n",
    "    #  Returns right-hand side of Kepler ODE; used by Runge-Kutta routines\n",
    "    #  Inputs\n",
    "    #    s      State vector [r(1) r(2) v(1) v(2)]\n",
    "    #    t      Time (not used)\n",
    "    #    GM     Parameter G*M (gravitational const. * solar mass)\n",
    "    #  Output\n",
    "    #    deriv  Derivatives [dr(1)/dt dr(2)/dt dv(1)/dt dv(2)/dt]\n",
    "\n",
    "    #* Compute acceleration\n",
    "    r = np.array([s[0], s[1]])  # Unravel the vector s into position and velocity\n",
    "    v = np.array([s[2], s[3]])\n",
    "    accel = -GM*r/np.linalg.norm(r)**3    # Gravitational acceleration\n",
    "\n",
    "    #* Return derivatives [dr(1)/dt dr(2)/dt dv(1)/dt dv(2)/dt]\n",
    "    deriv = np.array([v[0], v[1], accel[0], accel[1]])\n",
    "    return deriv"
   ]
  },
  {
   "cell_type": "code",
   "execution_count": null,
   "metadata": {
    "collapsed": true
   },
   "outputs": [],
   "source": [
    "def rk4(x,t,tau,derivsRK,param):\n",
    "    #  Runge-Kutta integrator (4th order)\n",
    "    # Input arguments -\n",
    "    #   x = current value of dependent variable\n",
    "    #   t = independent variable (usually time)\n",
    "    #   tau = step size (usually timestep)\n",
    "    #   derivsRK = right hand side of the ODE; derivsRK is the\n",
    "    #             name of the function which returns dx/dt\n",
    "    #             Calling format derivsRK (x,t,param).\n",
    "    #   param = extra parameters passed to derivsRK\n",
    "    # Output arguments -\n",
    "    #   xout = new value of x after a step of size tau\n",
    "    \n",
    "    half_tau = 0.5*tau\n",
    "    F1 = derivsRK(x,t,param)  \n",
    "    t_half = t + half_tau\n",
    "    xtemp = x + half_tau*F1\n",
    "    F2 = derivsRK(xtemp,t_half,param)  \n",
    "    xtemp = x + half_tau*F2\n",
    "    F3 = derivsRK(xtemp,t_half,param)\n",
    "    t_full = t + tau\n",
    "    xtemp = x + tau*F3\n",
    "    F4 = derivsRK(xtemp,t_full,param)\n",
    "    xout = x + tau/6.*(F1 + F4 + 2.*(F2+F3))\n",
    "    return xout"
   ]
  },
  {
   "cell_type": "code",
   "execution_count": null,
   "metadata": {
    "collapsed": false
   },
   "outputs": [],
   "source": [
    "def rka(x,t,tau,err,derivsRK,param):\n",
    "    # Adaptive Runge-Kutta routine\n",
    "    # Inputs\n",
    "    #   x          Current value of the dependent variable\n",
    "    #   t          Independent variable (usually time)\n",
    "    #   tau        Step size (usually time step)\n",
    "    #   err        Desired fractional local truncation error\n",
    "    #   derivsRK   Right hand side of the ODE; derivsRK is the\n",
    "    #              name of the function which returns dx/dt\n",
    "    #              Calling format derivsRK (x,t,param).\n",
    "    #   param      Extra parameters passed to derivsRK\n",
    "    # Outputs\n",
    "    #   xSmall     New value of the dependent variable\n",
    "    #   t          New value of the independent variable\n",
    "    #   tau        Suggested step size for next call to rka\n",
    "\n",
    "    #* Set initial variables\n",
    "    tSave, xSave = t, x        # Save initial values\n",
    "    safe1, safe2 = 0.9, 4.0    # Safety factors\n",
    "    eps = 1.e-15\n",
    "\n",
    "    #* Loop over maximum number of attempts to satisfy error bound\n",
    "    xTemp = np.empty(len(x))\n",
    "    xSmall = np.empty(len(x)); xBig = np.empty(len(x))\n",
    "    maxTry = 100\n",
    "    for iTry in range(maxTry):\n",
    "\n",
    "        #* Take the two small time steps\n",
    "        half_tau = 0.5 * tau\n",
    "        xTemp = rk4(xSave,tSave,half_tau,derivsRK,param)\n",
    "        t = tSave + half_tau\n",
    "        xSmall = rk4(xTemp,t,half_tau,derivsRK,param)\n",
    "  \n",
    "        #* Take the single big time step\n",
    "        t = tSave + tau\n",
    "        xBig = rk4(xSave,tSave,tau,derivsRK,param)\n",
    "  \n",
    "        #* Compute the estimated truncation error\n",
    "        scale = err * (abs(xSmall) + abs(xBig))/2.\n",
    "        xDiff = xSmall - xBig\n",
    "        errorRatio = max( abs (xDiff) / (scale + eps) )\n",
    "  \n",
    "        #* Estimate new tau value (including safety factors)\n",
    "        tau_old = tau\n",
    "        tau = safe1*tau_old*errorRatio**(-0.20)\n",
    "        tau = max(tau,tau_old/safe2)\n",
    "        tau = min(tau,safe2*tau_old)\n",
    "  \n",
    "        #* If error is acceptable, return computed values\n",
    "        if errorRatio < 1 :\n",
    "            return np.array([xSmall, t, tau]) \n",
    "\n",
    "    #* Issue error message if error bound never satisfied\n",
    "    print 'ERROR: Adaptive Runge-Kutta routine failed'\n",
    "    return np.array([xSmall, t, tau])"
   ]
  },
  {
   "cell_type": "code",
   "execution_count": null,
   "metadata": {
    "collapsed": false
   },
   "outputs": [],
   "source": [
    "#* Set initial position and velocity of the comet.\n",
    "r0 = input('Enter initial radial distance (AU): ')  \n",
    "v0 = input('Enter initial tangential velocity (AU/yr): ')\n",
    "r = np.array([r0, 0])\n",
    "v = np.array([0, v0])\n",
    "state = np.array([ r[0], r[1], v[0], v[1] ])   # Used by R-K routines\n",
    "\n",
    "#* Set physical parameters (mass, G*M)\n",
    "GM = 4 * np.pi**2      # Grav. const. * Mass of Sun (au^3/yr^2)\n",
    "mass = 1.0             # Mass of comet \n",
    "adaptErr = 1.0e-3      # Error parameter used by adaptive Runge-Kutta\n",
    "time = 0.0"
   ]
  },
  {
   "cell_type": "code",
   "execution_count": null,
   "metadata": {
    "collapsed": false
   },
   "outputs": [],
   "source": [
    "#* Loop over desired number of steps using specified\n",
    "#  numerical method.\n",
    "nStep = input('Enter number of steps: ')\n",
    "tau = input('Enter time step (yr): ')\n",
    "NumericalMethod = input(\n",
    "    'Choose a numerical method: 1) Euler; 2) Euler-Cromer; 3) Runge-Kutta; 4) Adaptive R-K')\n",
    "rplot = np.empty(nStep)           \n",
    "thplot = np.empty(nStep)\n",
    "tplot = np.empty(nStep)\n",
    "kinetic = np.empty(nStep)\n",
    "potential = np.empty(nStep)\n",
    "\n",
    "for iStep in range(nStep):  \n",
    "\n",
    "    #* Record position and energy for plotting.\n",
    "    rplot[iStep] = np.linalg.norm(r)                # Record position for polar plot\n",
    "    thplot[iStep] = np.arctan2(r[1],r[0])\n",
    "    tplot[iStep] = time\n",
    "    kinetic[iStep] = .5*mass*np.linalg.norm(v)**2   # Record energies\n",
    "    potential[iStep] = - GM*mass/np.linalg.norm(r)\n",
    "  \n",
    "    #* Calculate new position and velocity using desired method.\n",
    "    if NumericalMethod == 1 :\n",
    "        accel = -GM*r/np.linalg.norm(r)**3   \n",
    "        r = r + tau*v              # Euler step\n",
    "        v = v + tau*accel  \n",
    "        time = time + tau    \n",
    "    elif NumericalMethod == 2 :\n",
    "        accel = -GM*r/np.linalg.norm(r)**3   \n",
    "        v = v + tau*accel \n",
    "        r = r + tau*v              # Euler-Cromer step\n",
    "        time = time + tau     \n",
    "    elif NumericalMethod == 3 :\n",
    "         state = rk4(state,time,tau,gravrk,GM)\n",
    "         r = [state[0], state[1]]   # 4th order Runge-Kutta\n",
    "         v = [state[2], state[3]]\n",
    "         time = time + tau   \n",
    "    else : \n",
    "         [state, time, tau] = rka(state,time,tau,adaptErr,gravrk,GM);\n",
    "         r = [state[0], state[1]]    # Adaptive Runge-Kutta\n",
    "         v = [state[2], state[3]]"
   ]
  },
  {
   "cell_type": "code",
   "execution_count": null,
   "metadata": {
    "collapsed": false
   },
   "outputs": [],
   "source": [
    "#* Graph the trajectory of the comet.\n",
    "ax = plt.subplot(111, projection='polar')  # Use polar plot for graphing orbit\n",
    "ax.plot(thplot,rplot,'+')  \n",
    "ax.set_title('Distance (AU)')  \n",
    "ax.grid(True)"
   ]
  },
  {
   "cell_type": "code",
   "execution_count": null,
   "metadata": {
    "collapsed": false
   },
   "outputs": [],
   "source": [
    "#* Graph the energy of the comet versus time.\n",
    "totalE = kinetic + potential   # Total energy\n",
    "plt.plot(tplot,kinetic,'-.',tplot,potential,'--',tplot,totalE,'-')\n",
    "plt.legend(['Kinetic','Potential','Total']);\n",
    "plt.xlabel('Time (yr)')\n",
    "plt.ylabel('Energy (M AU^2/yr^2)')"
   ]
  }
 ],
 "metadata": {
  "anaconda-cloud": {},
  "kernelspec": {
   "display_name": "Python [default]",
   "language": "python",
   "name": "python2"
  },
  "language_info": {
   "codemirror_mode": {
    "name": "ipython",
    "version": 2
   },
   "file_extension": ".py",
   "mimetype": "text/x-python",
   "name": "python",
   "nbconvert_exporter": "python",
   "pygments_lexer": "ipython2",
   "version": "2.7.12"
  }
 },
 "nbformat": 4,
 "nbformat_minor": 1
}
