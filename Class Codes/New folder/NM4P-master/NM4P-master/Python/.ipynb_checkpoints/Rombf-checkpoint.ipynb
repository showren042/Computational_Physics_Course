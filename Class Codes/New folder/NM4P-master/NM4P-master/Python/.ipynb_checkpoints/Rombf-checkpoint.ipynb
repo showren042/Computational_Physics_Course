{
 "cells": [
  {
   "cell_type": "code",
   "execution_count": 1,
   "metadata": {
    "collapsed": true
   },
   "outputs": [],
   "source": [
    "# Program to test the bess function\n",
    "\n",
    "# Set up configuration options and special features\n",
    "import numpy as np\n",
    "import matplotlib.pyplot as plt\n",
    "%matplotlib inline"
   ]
  },
  {
   "cell_type": "code",
   "execution_count": 2,
   "metadata": {
    "collapsed": false
   },
   "outputs": [],
   "source": [
    "def rombf(a,b,N,func,param) :\n",
    "    #  Function to compute integrals by Romberg algorithm\n",
    "    #  R = rombf(a,b,N,func,param)\n",
    "    #  Inputs\n",
    "    #    a,b    Lower and upper bound of the integral\n",
    "    #    N      Romberg table is N by N\n",
    "    #    func   Name of integrand function in a string such as\n",
    "    #           func='errintg'.  The calling sequence is func(x,param)\n",
    "    #    param  Set of parameters to be passed to function\n",
    "    #  Output \n",
    "    #     R     Romberg table; Entry R(N,N) is best estimate of\n",
    "    #           the value of the integral\n",
    "\n",
    "    #* Compute the first term R(1,1)\n",
    "    h = b - a         # This is the coarsest panel size\n",
    "    npanels = 1       # Current number of panels\n",
    "    R = np.zeros((N+1,N+1))\n",
    "    R[1,1] = h/2. * (func(a,param) + func(b,param))\n",
    "\n",
    "    #* Loop over the desired number of rows, i = 2,...,N\n",
    "    for i in range(2,N+1) :\n",
    "\n",
    "        #* Compute the summation in the recursive trapezoidal rule\n",
    "        h = h/2.          # Use panels half the previous size\n",
    "        npanels *= 2      # Use twice as many panels\n",
    "        sumT = 0.\n",
    "        # This for loop goes k=1,3,5,...,npanels-1\n",
    "        for k in range(1,npanels,2) :  \n",
    "            sumT += func(a + k*h, param)\n",
    "  \n",
    "        #* Compute Romberg table entries R(i,1), R(i,2), ..., R(i,i)\n",
    "        R[i,1] = 0.5 * R[i-1,1] + h * sumT   \n",
    "        m = 1\n",
    "        for j in range(2,i+1) :\n",
    "            m *= 4\n",
    "            R[i,j] = R[i,j-1] + ( R[i,j-1] - R[i-1,j-1] )/(m-1)\n",
    "\n",
    "    return R"
   ]
  },
  {
   "cell_type": "code",
   "execution_count": 3,
   "metadata": {
    "collapsed": false
   },
   "outputs": [],
   "source": [
    "def errintg(x,param) :\n",
    "    # Error function integrand\n",
    "    # Inputs\n",
    "    #    x       Value where integrand is evaluated\n",
    "    #    param   Parameter list (not used)\n",
    "    # Output\n",
    "    #    f       Integrand of the error function\n",
    "    \n",
    "    f = np.exp(-x**2)\n",
    "    return f"
   ]
  },
  {
   "cell_type": "code",
   "execution_count": 5,
   "metadata": {
    "collapsed": false
   },
   "outputs": [
    {
     "name": "stdout",
     "output_type": "stream",
     "text": [
      "Error function estimate from rombf routine:\n",
      "0.771743332258\n",
      "0.439391289468 0.328607275204\n",
      "0.425736299643 0.421184636368 0.427356460445\n",
      "Expected value = 0.842701\n"
     ]
    }
   ],
   "source": [
    "N = 3\n",
    "a = 0\n",
    "b = 1\n",
    "R = np.empty((N+1,N+1))\n",
    "param = None\n",
    "\n",
    "R = rombf(a,b,N,errintg,param)\n",
    "\n",
    "print \"Error function estimate from rombf routine:\" \n",
    "for i in range(1,N+1) :\n",
    "    for j in range(1,i+1) :\n",
    "        print 2./np.sqrt(np.pi) * R[i,j],\n",
    "    print\n",
    "print \"Expected value = 0.842701\"\n",
    "\n"
   ]
  },
  {
   "cell_type": "code",
   "execution_count": null,
   "metadata": {
    "collapsed": true
   },
   "outputs": [],
   "source": []
  }
 ],
 "metadata": {
  "kernelspec": {
   "display_name": "Python [default]",
   "language": "python",
   "name": "python2"
  },
  "language_info": {
   "codemirror_mode": {
    "name": "ipython",
    "version": 2
   },
   "file_extension": ".py",
   "mimetype": "text/x-python",
   "name": "python",
   "nbconvert_exporter": "python",
   "pygments_lexer": "ipython2",
   "version": "2.7.12"
  }
 },
 "nbformat": 4,
 "nbformat_minor": 1
}
