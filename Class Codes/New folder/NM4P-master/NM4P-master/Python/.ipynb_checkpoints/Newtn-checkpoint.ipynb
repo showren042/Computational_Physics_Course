{
 "cells": [
  {
   "cell_type": "code",
   "execution_count": null,
   "metadata": {
    "collapsed": false
   },
   "outputs": [],
   "source": [
    "# newtn - Program to solve a system of nonlinear equations \n",
    "# using Newton's method.  Equations defined by function fnewt.\n",
    "\n",
    "# Set up configuration options and special features\n",
    "import numpy as np\n",
    "import matplotlib.pyplot as plt\n",
    "%matplotlib inline"
   ]
  },
  {
   "cell_type": "code",
   "execution_count": null,
   "metadata": {
    "collapsed": false
   },
   "outputs": [],
   "source": [
    "def fnewt(x,a):\n",
    "    #  Function used by the N-variable Newton's method\n",
    "    #  Inputs\n",
    "    #    x     State vector [x y z]\n",
    "    #    a     Parameters [r sigma b]\n",
    "    #  Outputs\n",
    "    #    f     Lorenz model r.h.s. [dx/dt dy/dt dz/dt]\n",
    "    #    D     Jacobian matrix, D(i,j) = df(j)/dx(i)\n",
    "\n",
    "    # Evaluate f(i)\n",
    "    f = np.empty(3)\n",
    "    f[0] = a[1] * (x[1]-x[0])\n",
    "    f[1] = a[0]*x[0] -x[1] -x[0]*x[2]\n",
    "    f[2] = x[0]*x[1] -a[2]*x[2]\n",
    "\n",
    "    # Evaluate D(i,j)\n",
    "    D = np.empty((3,3))\n",
    "    D[0,0] = -a[1]        # df(0)/dx(0)\n",
    "    D[0,1] = a[0]-x[2]    # df(1)/dx(0)\n",
    "    D[0,2] = x[1]         # df(2)/dx(0)\n",
    "    D[1,0] = a[1]         # df(0)/dx(1)\n",
    "    D[1,1] = -1           # df(1)/dx(1)\n",
    "    D[1,2] = x[0]         # df(2)/dx(1)\n",
    "    D[2,0] = 0            # df(0)/dx(2)\n",
    "    D[2,1] = -x[0]        # df(1)/dx(2)\n",
    "    D[2,2] = -a[2]        # df(2)/dx(2)\n",
    "\n",
    "    return [f, D]"
   ]
  },
  {
   "cell_type": "code",
   "execution_count": null,
   "metadata": {
    "collapsed": false
   },
   "outputs": [],
   "source": [
    "#* Set initial guess and parameters\n",
    "x0 = np.array(input('Enter the initial guess (row vector): '))\n",
    "x = np.copy(x0)     # Copy initial guess\n",
    "a = np.array(input('Enter the parameter a: '))"
   ]
  },
  {
   "cell_type": "code",
   "execution_count": null,
   "metadata": {
    "collapsed": false
   },
   "outputs": [],
   "source": [
    "#* Loop over desired number of steps \n",
    "nStep = 10    # Number of iterations before stopping\n",
    "xp = np.empty((len(x), nStep))\n",
    "xp[:,0] = np.copy(x[:])     # Record initial guess for plotting\n",
    "for iStep in range(nStep):\n",
    "\n",
    "    #* Evaluate function f and its Jacobian matrix D\n",
    "    [f, D] = fnewt(x,a)       # fnewt returns value of f and D\n",
    "    #* Find dx by Gaussian elimination; transpose D for column vectors\n",
    "    dx = np.linalg.solve( np.transpose(D), f)    \n",
    "    #* Update the estimate for the root  \n",
    "    x = x - dx                  # Newton iteration for new x\n",
    "    xp[:,iStep] = np.copy(x[:])   # Save current estimate for plotting"
   ]
  },
  {
   "cell_type": "code",
   "execution_count": null,
   "metadata": {
    "collapsed": false
   },
   "outputs": [],
   "source": [
    "#* Print the final estimate for the root\n",
    "print 'After', nStep, ' iterations the root is'\n",
    "print x\n",
    "\n",
    "# %* Plot the iterations from initial guess to final estimate\n",
    "from mpl_toolkits.mplot3d import Axes3D\n",
    "fig = plt.figure()\n",
    "ax = fig.gca(projection='3d')\n",
    "ax.plot(xp[0,:],xp[1,:],xp[2,:],'o-')\n",
    "ax.plot([x[0]],[x[1]],[x[2]],'*')\n",
    "ax.set_xlabel('x')\n",
    "ax.set_ylabel('y')\n",
    "ax.set_zlabel('z')\n",
    "ax.set_title('Steady state of the Lorenz model')"
   ]
  }
 ],
 "metadata": {
  "kernelspec": {
   "display_name": "Python [default]",
   "language": "python",
   "name": "python2"
  },
  "language_info": {
   "codemirror_mode": {
    "name": "ipython",
    "version": 2
   },
   "file_extension": ".py",
   "mimetype": "text/x-python",
   "name": "python",
   "nbconvert_exporter": "python",
   "pygments_lexer": "ipython2",
   "version": "2.7.12"
  }
 },
 "nbformat": 4,
 "nbformat_minor": 1
}
