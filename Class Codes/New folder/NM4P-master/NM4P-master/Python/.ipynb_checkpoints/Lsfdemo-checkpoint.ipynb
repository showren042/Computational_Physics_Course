{
 "cells": [
  {
   "cell_type": "code",
   "execution_count": 1,
   "metadata": {
    "collapsed": false
   },
   "outputs": [],
   "source": [
    "# lsfdemo - Program for demonstrating least squares fit routines\n",
    "\n",
    "# Set up configuration options and special features\n",
    "import numpy as np\n",
    "import matplotlib.pyplot as plt\n",
    "%matplotlib inline"
   ]
  },
  {
   "cell_type": "code",
   "execution_count": 2,
   "metadata": {
    "collapsed": true
   },
   "outputs": [],
   "source": [
    "def linreg(x,y,sigma):\n",
    "    # Function to perform linear regression (fit a line)\n",
    "    # Inputs\n",
    "    #   x       Independent variable\n",
    "    #   y       Dependent variable\n",
    "    #   sigma   Estimated error in y\n",
    "    # Outputs\n",
    "    #   a_fit   Fit parameters; a(1) is intercept, a(2) is slope\n",
    "    #   sig_a   Estimated error in the parameters a()\n",
    "    #   yy      Curve fit to the data\n",
    "    #   chisqr  Chi squared statistic\n",
    "\n",
    "    #* Evaluate various sigma sums\n",
    "    s = 0; sx = 0; sy = 0; sxy = 0; sxx = 0\n",
    "    for i in range(len(x)):\n",
    "        sigmaTerm = sigma[i]**(-2)\n",
    "        s += sigmaTerm              \n",
    "        sx += x[i] * sigmaTerm\n",
    "        sy += y[i] * sigmaTerm\n",
    "        sxy += x[i] * y[i] * sigmaTerm\n",
    "        sxx += x[i]**2 * sigmaTerm\n",
    "    denom = s*sxx - sx**2\n",
    "\n",
    "    #* Compute intercept a_fit(1) and slope a_fit(2)\n",
    "    a_fit = np.empty(2)\n",
    "    a_fit[0] = (sxx*sy - sx*sxy)/denom\n",
    "    a_fit[1] = (s*sxy - sx*sy)/denom\n",
    "\n",
    "    #* Compute error bars for intercept and slope\n",
    "    sig_a = np.empty(2)\n",
    "    sig_a[0] = np.sqrt(sxx/denom)\n",
    "    sig_a[1] = np.sqrt(s/denom)\n",
    "\n",
    "    #* Evaluate curve fit at each data point and compute Chi^2\n",
    "    yy = np.empty(len(x))\n",
    "    chisqr = 0.\n",
    "    for i in range(len(x)):\n",
    "        yy[i] = a_fit[0]+a_fit[1]*x[i]          # Curve fit to the data\n",
    "        chisqr += ((y[i]-yy[i])/sigma[i])**2    # Chi square\n",
    "    return [a_fit, sig_a, yy, chisqr]"
   ]
  },
  {
   "cell_type": "code",
   "execution_count": 3,
   "metadata": {
    "collapsed": false
   },
   "outputs": [],
   "source": [
    "def pollsf(x, y, sigma, M):\n",
    "    # Function to fit a polynomial to data\n",
    "    # Inputs \n",
    "    #   x       Independent variable\n",
    "    #   y       Dependent variable\n",
    "    #   sigma   Estimate error in y\n",
    "    #   M       Number of parameters used to fit data\n",
    "    # Outputs\n",
    "    #   a_fit   Fit parameters; a(1) is intercept, a(2) is slope\n",
    "    #   sig_a   Estimated error in the parameters a()\n",
    "    #   yy      Curve fit to the data\n",
    "    #   chisqr  Chi squared statistic\n",
    "\n",
    "    #* Form the vector b and design matrix A   \n",
    "    N = len(x)\n",
    "    b = np.empty(N)\n",
    "    A = np.empty((N,M))\n",
    "    for i in range(N):\n",
    "        b[i] = y[i]/sigma[i]\n",
    "        for j in range(M):\n",
    "            A[i,j] = x[i]**j / sigma[i] \n",
    "\n",
    "    #* Compute the correlation matrix C \n",
    "    C = np.linalg.inv( np.dot( np.transpose(A), A) )\n",
    "\n",
    "    #* Compute the least squares polynomial coefficients a_fit\n",
    "    a_fit = np.dot(C, np.dot( np.transpose(A), np.transpose(b)) )\n",
    "\n",
    "    #* Compute the estimated error bars for the coefficients\n",
    "    sig_a = np.empty(M)\n",
    "    for j in range(M):\n",
    "        sig_a[j] = np.sqrt(C[j,j])\n",
    "\n",
    "    #* Evaluate curve fit at each data point and compute Chi^2\n",
    "    yy = np.zeros(N)\n",
    "    chisqr = 0.\n",
    "    for i in range(N):\n",
    "        for j in range(M):\n",
    "            yy[i] += a_fit[j]*x[i]**j   # yy is the curve fit\n",
    "        chisqr += ((y[i]-yy[i]) / sigma[i])**2\n",
    "        \n",
    "    return [a_fit, sig_a, yy, chisqr]"
   ]
  },
  {
   "cell_type": "code",
   "execution_count": 4,
   "metadata": {
    "collapsed": false
   },
   "outputs": [
    {
     "name": "stdout",
     "output_type": "stream",
     "text": [
      "Curve fit data is created using the quadratic\n",
      "  y(x) = c(0) + c(1)*x + c(2)*x**2\n",
      "Enter the coefficients as [c(0) c(1) c(2)]: [2., .5, 0.]\n",
      "Enter estimated error bar: 2\n"
     ]
    }
   ],
   "source": [
    "#* Initialize data to be fit. Data is quadratic plus random number.\n",
    "print 'Curve fit data is created using the quadratic'\n",
    "print '  y(x) = c(0) + c(1)*x + c(2)*x**2'\n",
    "c = np.array(input('Enter the coefficients as [c(0) c(1) c(2)]: '))\n",
    "N = 50;                 # Number of data points\n",
    "x = np.arange(1,N+1)    # x = [1, 2, ..., N]\n",
    "y = np.empty(N)\n",
    "sigma = np.empty(N)\n",
    "np.random.seed(0)       # Initialize random number generator\n",
    "alpha = input('Enter estimated error bar: ')\n",
    "for i in range(N):\n",
    "    r = alpha * np.random.normal()    # Gaussian distributed random vector\n",
    "    y[i] = c[0] + c[1]*x[i] + c[2]*x[i]**2 + r\n",
    "    sigma[i] = alpha       # Constant error bar"
   ]
  },
  {
   "cell_type": "code",
   "execution_count": 5,
   "metadata": {
    "collapsed": false
   },
   "outputs": [
    {
     "name": "stdout",
     "output_type": "stream",
     "text": [
      "Enter number of fit parameters (=2 for line): 2\n"
     ]
    }
   ],
   "source": [
    "#* Fit the data to a straight line or a more general polynomial\n",
    "M = input('Enter number of fit parameters (=2 for line): ')\n",
    "if M == 2 :  \n",
    "    #* Linear regression (Straight line) fit\n",
    "    [a_fit, sig_a, yy, chisqr] = linreg(x,y,sigma)\n",
    "else: \n",
    "    #* Polynomial fit\n",
    "    [a_fit, sig_a, yy, chisqr] = pollsf(x,y,sigma,M)"
   ]
  },
  {
   "cell_type": "code",
   "execution_count": 6,
   "metadata": {
    "collapsed": false
   },
   "outputs": [
    {
     "name": "stdout",
     "output_type": "stream",
     "text": [
      "Fit parameters:\n",
      " a[ 0 ] =  1.52564172087  +/-  0.574278606921\n",
      " a[ 1 ] =  0.516601120906  +/-  0.019599838302\n"
     ]
    },
    {
     "data": {
      "text/plain": [
       "<matplotlib.text.Text at 0x7f20cc0>"
      ]
     },
     "execution_count": 6,
     "metadata": {},
     "output_type": "execute_result"
    },
    {
     "data": {
      "image/png": "[encoded data removed]",
      "text/plain": [
       "<matplotlib.figure.Figure at 0x7e23908>"
      ]
     },
     "metadata": {},
     "output_type": "display_data"
    }
   ],
   "source": [
    "#* Print out the fit parameters, including their error bars.\n",
    "print 'Fit parameters:'\n",
    "for i in range(M):\n",
    "    print ' a[', i, '] = ', a_fit[i], ' +/- ', sig_a[i]\n",
    "\n",
    "#* Graph the data, with error bars, and fitting function.\n",
    "plt.errorbar(x,y,sigma,None,'o')   # Graph data with error bars\n",
    "plt.plot(x,yy,'-')            # Plot the fit on same graph as data\n",
    "plt.xlabel('x_i')  \n",
    "plt.ylabel('y_i and Y(x)') \n",
    "plt.title([r\"\\chi^2 = \",chisqr,'    N-M = ',N-M])"
   ]
  },
  {
   "cell_type": "code",
   "execution_count": null,
   "metadata": {
    "collapsed": true
   },
   "outputs": [],
   "source": []
  }
 ],
 "metadata": {
  "kernelspec": {
   "display_name": "Python [default]",
   "language": "python",
   "name": "python2"
  },
  "language_info": {
   "codemirror_mode": {
    "name": "ipython",
    "version": 2
   },
   "file_extension": ".py",
   "mimetype": "text/x-python",
   "name": "python",
   "nbconvert_exporter": "python",
   "pygments_lexer": "ipython2",
   "version": "2.7.12"
  }
 },
 "nbformat": 4,
 "nbformat_minor": 1
}
