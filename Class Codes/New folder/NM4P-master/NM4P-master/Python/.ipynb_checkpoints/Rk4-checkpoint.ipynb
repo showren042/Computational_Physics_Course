{
 "cells": [
  {
   "cell_type": "code",
   "execution_count": null,
   "metadata": {
    "collapsed": true
   },
   "outputs": [],
   "source": [
    "def rk4(x,t,tau,derivsRK,param):\n",
    "    #  Runge-Kutta integrator (4th order)\n",
    "    # Input arguments -\n",
    "    #   x = current value of dependent variable\n",
    "    #   t = independent variable (usually time)\n",
    "    #   tau = step size (usually timestep)\n",
    "    #   derivsRK = right hand side of the ODE; derivsRK is the\n",
    "    #             name of the function which returns dx/dt\n",
    "    #             Calling format derivsRK (x,t,param).\n",
    "    #   param = extra parameters passed to derivsRK\n",
    "    # Output arguments -\n",
    "    #   xout = new value of x after a step of size tau\n",
    "    \n",
    "    half_tau = 0.5*tau\n",
    "    F1 = derivsRK(x,t,param)  \n",
    "    t_half = t + half_tau\n",
    "    xtemp = x + half_tau*F1\n",
    "    F2 = derivsRK(xtemp,t_half,param)  \n",
    "    xtemp = x + half_tau*F2\n",
    "    F3 = derivsRK(xtemp,t_half,param)\n",
    "    t_full = t + tau\n",
    "    xtemp = x + tau*F3\n",
    "    F4 = derivsRK(xtemp,t_full,param)\n",
    "    xout = x + tau/6.*(F1 + F4 + 2.*(F2+F3))\n",
    "    return xout"
   ]
  }
 ],
 "metadata": {
  "kernelspec": {
   "display_name": "Python [default]",
   "language": "python",
   "name": "python2"
  },
  "language_info": {
   "codemirror_mode": {
    "name": "ipython",
    "version": 2
   },
   "file_extension": ".py",
   "mimetype": "text/x-python",
   "name": "python",
   "nbconvert_exporter": "python",
   "pygments_lexer": "ipython2",
   "version": "2.7.12"
  }
 },
 "nbformat": 4,
 "nbformat_minor": 1
}
