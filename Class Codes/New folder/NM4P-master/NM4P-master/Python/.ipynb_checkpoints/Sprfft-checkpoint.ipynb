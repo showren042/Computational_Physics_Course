{
 "cells": [
  {
   "cell_type": "code",
   "execution_count": null,
   "metadata": {
    "collapsed": false
   },
   "outputs": [],
   "source": [
    "# sprfft - Program to compute the power spectrum of a  \n",
    "# coupled mass-spring system.\n",
    "\n",
    "# Set up configuration options and special features\n",
    "import numpy as np\n",
    "import matplotlib.pyplot as plt\n",
    "%matplotlib inline"
   ]
  },
  {
   "cell_type": "code",
   "execution_count": null,
   "metadata": {
    "collapsed": true
   },
   "outputs": [],
   "source": [
    "def rk4(x,t,tau,derivsRK,param):\n",
    "    #  Runge-Kutta integrator (4th order)\n",
    "    # Input arguments -\n",
    "    #   x = current value of dependent variable\n",
    "    #   t = independent variable (usually time)\n",
    "    #   tau = step size (usually timestep)\n",
    "    #   derivsRK = right hand side of the ODE; derivsRK is the\n",
    "    #             name of the function which returns dx/dt\n",
    "    #             Calling format derivsRK (x,t,param).\n",
    "    #   param = extra parameters passed to derivsRK\n",
    "    # Output arguments -\n",
    "    #   xout = new value of x after a step of size tau\n",
    "    \n",
    "    half_tau = 0.5*tau\n",
    "    F1 = derivsRK(x,t,param)  \n",
    "    t_half = t + half_tau\n",
    "    xtemp = x + half_tau*F1\n",
    "    F2 = derivsRK(xtemp,t_half,param)  \n",
    "    xtemp = x + half_tau*F2\n",
    "    F3 = derivsRK(xtemp,t_half,param)\n",
    "    t_full = t + tau\n",
    "    xtemp = x + tau*F3\n",
    "    F4 = derivsRK(xtemp,t_full,param)\n",
    "    xout = x + tau/6.*(F1 + F4 + 2.*(F2+F3))\n",
    "    return xout"
   ]
  },
  {
   "cell_type": "code",
   "execution_count": null,
   "metadata": {
    "collapsed": true
   },
   "outputs": [],
   "source": [
    "def sprrk(s,t,param):\n",
    "    #  Returns right-hand side of 3 mass-spring system\n",
    "    #  equations of motion\n",
    "    #  Inputs\n",
    "    #    s       State vector [x(1) x(2) ... v(3)]\n",
    "    #    t       Time (not used)\n",
    "    #    param   (Spring constant)/(Block mass)\n",
    "    #  Output\n",
    "    #    deriv   [dx(1)/dt dx(2)/dt ... dv(3)/dt]\n",
    "    deriv = np.empty(6)\n",
    "    deriv[0] = s[3]\n",
    "    deriv[1] = s[4]\n",
    "    deriv[2] = s[5]\n",
    "    param2 = -2.*param\n",
    "    deriv[3] = param2*s[0] + param*s[1]\n",
    "    deriv[4] = param2*s[1] + param*(s[0]+s[2])\n",
    "    deriv[5] = param2*s[2] + param*s[1]\n",
    "    return deriv"
   ]
  },
  {
   "cell_type": "code",
   "execution_count": null,
   "metadata": {
    "collapsed": false
   },
   "outputs": [],
   "source": [
    "#* Set parameters for the system (initial positions, etc.).\n",
    "x = np.array(input('Enter initial displacement [x0, x1, x2]: '))  \n",
    "v = np.array([0, 0, 0])       # Masses are initially at rest\n",
    "# Positions and velocities; used by rk4\n",
    "state = np.array([x[0], x[1], x[2], v[0], v[1], v[2]])      \n",
    "tau = input('Enter timestep: ')  \n",
    "k_over_m = 1               # Ratio of spring const. over mass"
   ]
  },
  {
   "cell_type": "code",
   "execution_count": null,
   "metadata": {
    "collapsed": false
   },
   "outputs": [],
   "source": [
    "#* Loop over the desired number of time steps.\n",
    "time = 0.          # Set initial time\n",
    "nstep = 256        # Number of steps in the main loop\n",
    "nprint = nstep/8   # Number of steps between printing progress\n",
    "tplot = np.empty(nstep)\n",
    "xplot = np.empty((nstep,3))\n",
    "for istep in range(nstep):  ### MAIN LOOP ###\n",
    "\n",
    "    #* Use Runge-Kutta to find new displacements of the masses.\n",
    "    state = rk4(state,time,tau,sprrk,k_over_m)  \n",
    "    time = time + tau\n",
    "  \n",
    "    #* Record the positions for graphing and to compute spectra.\n",
    "    xplot[istep,:] = np.copy(state[0:3])   # Record positions\n",
    "    tplot[istep] = time\n",
    "    if istep % nprint < 1 :\n",
    "        print 'Finished ', istep, ' out of ', nstep, ' steps'"
   ]
  },
  {
   "cell_type": "code",
   "execution_count": null,
   "metadata": {
    "collapsed": false
   },
   "outputs": [],
   "source": [
    "#* Graph the displacements of the three masses.\n",
    "plt.plot(tplot,xplot[:,0],'-',tplot,xplot[:,1],'-.',tplot,xplot[:,2],'--')\n",
    "plt.legend(['Mass #1  ','Mass #2  ','Mass #3  '])\n",
    "plt.title('Displacement of masses (relative to rest positions)')\n",
    "plt.xlabel('Time') \n",
    "plt.ylabel('Displacement')"
   ]
  },
  {
   "cell_type": "code",
   "execution_count": null,
   "metadata": {
    "collapsed": false
   },
   "outputs": [],
   "source": [
    "#* Calculate the power spectrum of the time series for mass #1\n",
    "f = np.arange(nstep)/(tau*nstep)   # Frequency\n",
    "x1 = xplot[:,0]                # Displacement of mass 1\n",
    "\n",
    "x1fft = np.fft.fft(x1)       # Fourier transform of displacement\n",
    "\n",
    "spect = np.empty(len(x1fft))                # Power spectrum of displacement\n",
    "for i in range(len(x1fft)):\n",
    "    spect[i] = abs(x1fft[i])**2"
   ]
  },
  {
   "cell_type": "code",
   "execution_count": null,
   "metadata": {
    "collapsed": false
   },
   "outputs": [],
   "source": [
    "#* Apply the Hanning window to the time series and calculate\n",
    "#  the resulting power spectrum\n",
    "x1w = np.empty(len(x1))\n",
    "for i in range(len(x1)):\n",
    "    window = 0.5 * (1. - np.cos(2*np.pi*float(i)/nstep)) # Hanning window\n",
    "    x1w[i] = x1[i] * window          # Windowed time series\n",
    "    \n",
    "x1wfft = np.fft.fft(x1w)            # Fourier transf. (windowed data)\n",
    "\n",
    "spectw = np.empty(len(x1wfft))                # Power spectrum (windowed data)\n",
    "for i in range(len(x1wfft)):\n",
    "    spectw[i] = abs(x1wfft[i])**2"
   ]
  },
  {
   "cell_type": "code",
   "execution_count": null,
   "metadata": {
    "collapsed": false
   },
   "outputs": [],
   "source": [
    "#* Graph the power spectra for original and windowed data\n",
    "plt.semilogy(f[0:(nstep/2)],spect[0:(nstep/2)],'-', f[0:(nstep/2)],spectw[0:(nstep/2)],'--');\n",
    "plt.title('Power spectrum (dashed is windowed data)')\n",
    "plt.xlabel('Frequency')\n",
    "plt.ylabel('Power')"
   ]
  }
 ],
 "metadata": {
  "anaconda-cloud": {},
  "kernelspec": {
   "display_name": "Python [default]",
   "language": "python",
   "name": "python2"
  },
  "language_info": {
   "codemirror_mode": {
    "name": "ipython",
    "version": 2
   },
   "file_extension": ".py",
   "mimetype": "text/x-python",
   "name": "python",
   "nbconvert_exporter": "python",
   "pygments_lexer": "ipython2",
   "version": "2.7.12"
  }
 },
 "nbformat": 4,
 "nbformat_minor": 1
}
