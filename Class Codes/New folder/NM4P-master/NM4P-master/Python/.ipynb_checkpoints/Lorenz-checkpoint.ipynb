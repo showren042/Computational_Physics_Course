{
 "cells": [
  {
   "cell_type": "code",
   "execution_count": null,
   "metadata": {
    "collapsed": false
   },
   "outputs": [],
   "source": [
    "# lorenz - Program to compute the trajectories of the Lorenz \n",
    "# equations using the adaptive Runge-Kutta method.\n",
    "\n",
    "# Set up configuration options and special features\n",
    "import numpy as np\n",
    "import matplotlib.pyplot as plt\n",
    "%matplotlib inline"
   ]
  },
  {
   "cell_type": "code",
   "execution_count": null,
   "metadata": {
    "collapsed": true
   },
   "outputs": [],
   "source": [
    "def rk4(x,t,tau,derivsRK,param):\n",
    "    #  Runge-Kutta integrator (4th order)\n",
    "    # Input arguments -\n",
    "    #   x = current value of dependent variable\n",
    "    #   t = independent variable (usually time)\n",
    "    #   tau = step size (usually timestep)\n",
    "    #   derivsRK = right hand side of the ODE; derivsRK is the\n",
    "    #             name of the function which returns dx/dt\n",
    "    #             Calling format derivsRK (x,t,param).\n",
    "    #   param = extra parameters passed to derivsRK\n",
    "    # Output arguments -\n",
    "    #   xout = new value of x after a step of size tau\n",
    "    \n",
    "    half_tau = 0.5*tau\n",
    "    F1 = derivsRK(x,t,param)  \n",
    "    t_half = t + half_tau\n",
    "    xtemp = x + half_tau*F1\n",
    "    F2 = derivsRK(xtemp,t_half,param)  \n",
    "    xtemp = x + half_tau*F2\n",
    "    F3 = derivsRK(xtemp,t_half,param)\n",
    "    t_full = t + tau\n",
    "    xtemp = x + tau*F3\n",
    "    F4 = derivsRK(xtemp,t_full,param)\n",
    "    xout = x + tau/6.*(F1 + F4 + 2.*(F2+F3))\n",
    "    return xout"
   ]
  },
  {
   "cell_type": "code",
   "execution_count": null,
   "metadata": {
    "collapsed": true
   },
   "outputs": [],
   "source": [
    "def rka(x,t,tau,err,derivsRK,param):\n",
    "    # Adaptive Runge-Kutta routine\n",
    "    # Inputs\n",
    "    #   x          Current value of the dependent variable\n",
    "    #   t          Independent variable (usually time)\n",
    "    #   tau        Step size (usually time step)\n",
    "    #   err        Desired fractional local truncation error\n",
    "    #   derivsRK   Right hand side of the ODE; derivsRK is the\n",
    "    #              name of the function which returns dx/dt\n",
    "    #              Calling format derivsRK (x,t,param).\n",
    "    #   param      Extra parameters passed to derivsRK\n",
    "    # Outputs\n",
    "    #   xSmall     New value of the dependent variable\n",
    "    #   t          New value of the independent variable\n",
    "    #   tau        Suggested step size for next call to rka\n",
    "\n",
    "    #* Set initial variables\n",
    "    tSave, xSave = t, x        # Save initial values\n",
    "    safe1, safe2 = 0.9, 4.0    # Safety factors\n",
    "    eps = 1.e-15\n",
    "\n",
    "    #* Loop over maximum number of attempts to satisfy error bound\n",
    "    xTemp = np.empty(len(x))\n",
    "    xSmall = np.empty(len(x)); xBig = np.empty(len(x))\n",
    "    maxTry = 100\n",
    "    for iTry in range(maxTry):\n",
    "\n",
    "        #* Take the two small time steps\n",
    "        half_tau = 0.5 * tau\n",
    "        xTemp = rk4(xSave,tSave,half_tau,derivsRK,param)\n",
    "        t = tSave + half_tau\n",
    "        xSmall = rk4(xTemp,t,half_tau,derivsRK,param)\n",
    "  \n",
    "        #* Take the single big time step\n",
    "        t = tSave + tau\n",
    "        xBig = rk4(xSave,tSave,tau,derivsRK,param)\n",
    "  \n",
    "        #* Compute the estimated truncation error\n",
    "        scale = err * (abs(xSmall) + abs(xBig))/2.\n",
    "        xDiff = xSmall - xBig\n",
    "        errorRatio = np.max( np.absolute(xDiff) / (scale + eps) )\n",
    "  \n",
    "        #* Estimate new tau value (including safety factors)\n",
    "        tau_old = tau\n",
    "        tau = safe1*tau_old*errorRatio**(-0.20)\n",
    "        tau = max(tau, tau_old/safe2)\n",
    "        tau = min(tau, safe2*tau_old)\n",
    "  \n",
    "        #* If error is acceptable, return computed values\n",
    "        if errorRatio < 1 :\n",
    "            return np.array([xSmall, t, tau]) \n",
    "\n",
    "    #* Issue error message if error bound never satisfied\n",
    "    print 'ERROR: Adaptive Runge-Kutta routine failed'\n",
    "    return np.array([xSmall, t, tau])"
   ]
  },
  {
   "cell_type": "code",
   "execution_count": null,
   "metadata": {
    "collapsed": true
   },
   "outputs": [],
   "source": [
    "def lorzrk(s,t,param):\n",
    "    #  Returns right-hand side of Lorenz model ODEs\n",
    "    #  Inputs\n",
    "    #    s      State vector [x y z]\n",
    "    #    t      Time (not used)\n",
    "    #    param  Parameters [r sigma b]\n",
    "    #  Output\n",
    "    #    deriv  Derivatives [dx/dt dy/dt dz/dt]\n",
    "\n",
    "    #* For clarity, unravel input vectors\n",
    "    x, y, z = s[0], s[1], s[2]\n",
    "    r = param[0]\n",
    "    sigma = param[1]\n",
    "    b = param[2]\n",
    "\n",
    "    #* Return the derivatives [dx/dt dy/dt dz/dt]\n",
    "    deriv = np.empty(3)\n",
    "    deriv[0] = sigma*(y-x)\n",
    "    deriv[1] = r*x - y - x*z\n",
    "    deriv[2] = x*y - b*z\n",
    "    return deriv"
   ]
  },
  {
   "cell_type": "code",
   "execution_count": null,
   "metadata": {
    "collapsed": false
   },
   "outputs": [],
   "source": [
    "#* Set initial state x,y,z and parameters r,sigma,b\n",
    "state = np.array(input('Enter the initial position [x, y, z]: '))\n",
    "r = input('Enter the parameter r: ')\n",
    "sigma = 10.    # Parameter sigma\n",
    "b = 8./3.      # Parameter b\n",
    "param = np.array([r, sigma, b])  # Vector of parameters passed to rka\n",
    "tau = 1.       # Initial guess for the timestep\n",
    "err = 1.e-3    # Error tolerance"
   ]
  },
  {
   "cell_type": "code",
   "execution_count": null,
   "metadata": {
    "collapsed": false
   },
   "outputs": [],
   "source": [
    "#* Loop over the desired number of steps\n",
    "time = 0.\n",
    "nstep = input('Enter number of steps: ')\n",
    "tplot = np.empty(nstep)\n",
    "tauplot = np.empty(nstep)\n",
    "xplot, yplot, zplot = np.empty(nstep), np.empty(nstep), np.empty(nstep)\n",
    "for istep in range(nstep):\n",
    "\n",
    "    #* Record values for plotting\n",
    "    x, y, z = state[0], state[1], state[2]\n",
    "    tplot[istep] = time\n",
    "    tauplot[istep] = tau       \n",
    "    xplot[istep] = x \n",
    "    yplot[istep] = y \n",
    "    zplot[istep] = z \n",
    "    if istep % 50  < 1 :\n",
    "        print 'Finished ',istep, ' steps out of ',nstep\n",
    "\n",
    "    #* Find new state using adaptive Runge-Kutta\n",
    "    [state, time, tau] = rka(state,time,tau,err,lorzrk,param);"
   ]
  },
  {
   "cell_type": "code",
   "execution_count": null,
   "metadata": {
    "collapsed": false
   },
   "outputs": [],
   "source": [
    "#* Print max and min time step returned by rka\n",
    "print 'Adaptive time step: Max = ', np.max(tauplot[2:nstep]),  \n",
    "' Min = ', np.min(tauplot[2:nstep])\n",
    "\n",
    "#* Graph the time series x(t)\n",
    "plt.plot(tplot,xplot,'-')\n",
    "plt.xlabel('Time')\n",
    "plt.ylabel('x(t)')\n",
    "plt.title('Lorenz model time series')"
   ]
  },
  {
   "cell_type": "code",
   "execution_count": null,
   "metadata": {
    "collapsed": false
   },
   "outputs": [],
   "source": [
    "#* Graph the x,y,z phase space trajectory\n",
    "# Mark the location of the three steady states\n",
    "x_ss = np.empty(3);  y_ss = np.empty(3);  z_ss = np.empty(3)\n",
    "x_ss[0] = 0\n",
    "y_ss[0] = 0\n",
    "z_ss[0] = 0\n",
    "x_ss[1] = np.sqrt(b*(r-1))\n",
    "y_ss[1] = x_ss[1]\n",
    "z_ss[1] = r-1\n",
    "x_ss[2] = -np.sqrt(b*(r-1))\n",
    "y_ss[2] = x_ss[2]\n",
    "z_ss[2] = r-1\n",
    "\n",
    "from mpl_toolkits.mplot3d import Axes3D\n",
    "fig = plt.figure()\n",
    "ax = fig.gca(projection='3d')\n",
    "ax.plot(xplot,yplot,zplot,'-')\n",
    "ax.plot(x_ss,y_ss,z_ss,'*')\n",
    "ax.set_xlabel('x')\n",
    "ax.set_ylabel('y')\n",
    "ax.set_zlabel('z')\n",
    "ax.set_title('Lorenz model phase space')"
   ]
  }
 ],
 "metadata": {
  "kernelspec": {
   "display_name": "Python [default]",
   "language": "python",
   "name": "python2"
  },
  "language_info": {
   "codemirror_mode": {
    "name": "ipython",
    "version": 2
   },
   "file_extension": ".py",
   "mimetype": "text/x-python",
   "name": "python",
   "nbconvert_exporter": "python",
   "pygments_lexer": "ipython2",
   "version": "2.7.12"
  }
 },
 "nbformat": 4,
 "nbformat_minor": 1
}
