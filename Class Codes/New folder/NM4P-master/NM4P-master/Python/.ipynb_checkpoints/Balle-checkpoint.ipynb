{
 "cells": [
  {
   "cell_type": "code",
   "execution_count": null,
   "metadata": {
    "collapsed": false
   },
   "outputs": [],
   "source": [
    "# balle - Program to compute the trajectory of a baseball\n",
    "#         using the Euler method.\n",
    "\n",
    "# Set up configuration options and special features\n",
    "import numpy as np\n",
    "import matplotlib.pyplot as plt\n",
    "%matplotlib inline"
   ]
  },
  {
   "cell_type": "code",
   "execution_count": null,
   "metadata": {
    "collapsed": false
   },
   "outputs": [],
   "source": [
    "#* Set initial position and velocity of the baseball\n",
    "y1 = input('Enter initial height (meters): ')   \n",
    "r1 = np.array([0, y1])      # Initial vector position\n",
    "speed = input('Enter initial speed (m/s): ')\n",
    "theta = input('Enter initial angle (degrees): ') \n",
    "v1 = np.array([speed * np.cos(theta*np.pi/180), \n",
    "      speed * np.sin(theta*np.pi/180)])      # Initial velocity\n",
    "r = r1   # Set initial position \n",
    "v = v1   # Set initial velocity\n",
    "\n",
    "#* Set physical parameters (mass, Cd, etc.)\n",
    "Cd = 0.35      # Drag coefficient (dimensionless)\n",
    "area = 4.3e-3  # Cross-sectional area of projectile (m^2)\n",
    "grav = 9.81    # Gravitational acceleration (m/s^2)\n",
    "mass = 0.145   # Mass of projectile (kg)\n",
    "airFlag = input('Air resistance? (Yes:1, No:0): ')\n",
    "if airFlag == 0 :\n",
    "    rho = 0       # No air resistance\n",
    "else:\n",
    "    rho = 1.2     # Density of air (kg/m^3)\n",
    "air_const = -0.5*Cd*rho*area/mass   # Air resistance constant"
   ]
  },
  {
   "cell_type": "code",
   "execution_count": null,
   "metadata": {
    "collapsed": false
   },
   "outputs": [],
   "source": [
    "#* Loop until ball hits ground or max steps completed\n",
    "tau = input('Enter timestep, tau (sec): ')   # (sec)\n",
    "maxstep = 1000    # Maximum number of steps\n",
    "xplot = np.empty(maxstep);  yplot = np.empty(maxstep)\n",
    "xNoAir = np.empty(maxstep); yNoAir = np.empty(maxstep)\n",
    "for istep in range(maxstep):\n",
    "\n",
    "    #* Record position (computed and theoretical) for plotting\n",
    "    xplot[istep] = r[0]   # Record trajectory for plot\n",
    "    yplot[istep] = r[1]\n",
    "    t = istep*tau         # Current time\n",
    "    xNoAir[istep] = r1[0] + v1[0]*t\n",
    "    yNoAir[istep] = r1[1] + v1[1]*t - 0.5*grav*t**2\n",
    "  \n",
    "    #* Calculate the acceleration of the ball \n",
    "    accel = air_const * np.linalg.norm(v) * v   # Air resistance\n",
    "    accel[1] = accel[1] - grav                    # Gravity\n",
    "  \n",
    "    #* Calculate the new position and velocity using Euler method\n",
    "    r = r + tau*v                    # Euler step\n",
    "    v = v + tau*accel     \n",
    "  \n",
    "    #* If ball reaches ground (y<0), break out of the loop\n",
    "    if r[1] < 0 : \n",
    "        laststep = istep+1\n",
    "        xplot[laststep] = r[0]  # Record last values computed\n",
    "        yplot[laststep] = r[1]\n",
    "        break                   # Break out of the for loop"
   ]
  },
  {
   "cell_type": "code",
   "execution_count": null,
   "metadata": {
    "collapsed": false
   },
   "outputs": [],
   "source": [
    "#* Print maximum range and time of flight\n",
    "print 'Maximum range is', r[0], 'meters' \n",
    "print 'Time of flight is', laststep*tau , ' seconds' \n",
    "\n",
    "#* Graph the trajectory of the baseball\n",
    "# Mark the location of the ground by a straight line\n",
    "xground = np.array([0., max(xNoAir[0:laststep])])\n",
    "yground = np.array([0., 0.])\n",
    "# Plot the computed trajectory and parabolic, no-air curve\n",
    "plt.plot(xplot[0:laststep+1],yplot[0:laststep+1],'+',\n",
    "     xNoAir[0:laststep],yNoAir[0:laststep],'-',xground,yground,'r-')\n",
    "plt.legend(['Euler method','Theory (No air)  ']);\n",
    "plt.xlabel('Range (m)')\n",
    "plt.ylabel('Height (m)')\n",
    "plt.title('Projectile motion')"
   ]
  }
 ],
 "metadata": {
  "anaconda-cloud": {},
  "kernelspec": {
   "display_name": "Python [default]",
   "language": "python",
   "name": "python2"
  },
  "language_info": {
   "codemirror_mode": {
    "name": "ipython",
    "version": 2
   },
   "file_extension": ".py",
   "mimetype": "text/x-python",
   "name": "python",
   "nbconvert_exporter": "python",
   "pygments_lexer": "ipython2",
   "version": "2.7.12"
  }
 },
 "nbformat": 4,
 "nbformat_minor": 1
}
