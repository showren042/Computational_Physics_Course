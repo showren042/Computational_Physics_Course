{
 "cells": [
  {
   "cell_type": "code",
   "execution_count": null,
   "metadata": {
    "collapsed": false
   },
   "outputs": [],
   "source": [
    "# ftdemo - Discrete Fourier transform demonstration program\n",
    "\n",
    "# Set up configuration options and special features\n",
    "import numpy as np\n",
    "import matplotlib.pyplot as plt\n",
    "%matplotlib inline"
   ]
  },
  {
   "cell_type": "code",
   "execution_count": null,
   "metadata": {
    "collapsed": false
   },
   "outputs": [],
   "source": [
    "#* Initialize the sine wave time series to be transformed.\n",
    "N = input('Enter the number of points: ')\n",
    "freq = input('Enter frequency of the sine wave: ')\n",
    "phase = input('Enter phase of the sine wave: ')\n",
    "tau = 1.   # Time increment\n",
    "t = np.arange(N)*tau               # t = [0, tau, 2*tau, ... ]\n",
    "y = np.empty(N)\n",
    "for i in range(N):              # Sine wave time series\n",
    "    y[i] = np.sin(2*np.pi*t[i]*freq + phase)    \n",
    "f = np.arange(N)/(N*tau)           # f = [0, 1/(N*tau), ... ] "
   ]
  },
  {
   "cell_type": "code",
   "execution_count": null,
   "metadata": {
    "collapsed": false
   },
   "outputs": [],
   "source": [
    "#* Compute the transform using desired method: direct summation\n",
    "#  or fast Fourier transform (FFT) algorithm.\n",
    "yt = np.zeros(N,dtype=complex)\n",
    "Method = input('Compute transform by: 1) Direct summation; 2) FFT  :')\n",
    "\n",
    "import time\n",
    "startTime = time.time()\n",
    "if Method == 1 :             # Direct summation\n",
    "    twoPiN = -2. * np.pi * (1j) /N\n",
    "    for k in range(N):\n",
    "        for j in range(N):\n",
    "            expTerm = np.exp( twoPiN*j*k )\n",
    "            yt[k] += y[j] * expTerm\n",
    "else:                        # Fast Fourier transform\n",
    "    yt = np.fft.fft(y)\n",
    "\n",
    "stopTime = time.time()\n",
    "\n",
    "print 'Elapsed time = ', stopTime - startTime, ' seconds'"
   ]
  },
  {
   "cell_type": "code",
   "execution_count": null,
   "metadata": {
    "collapsed": false
   },
   "outputs": [],
   "source": [
    "#* Graph the time series and its transform.\n",
    "plt.plot(t,y)\n",
    "plt.title('Original time series')\n",
    "plt.xlabel('Time')\n",
    "plt.ylabel('Amplitude')  "
   ]
  },
  {
   "cell_type": "code",
   "execution_count": null,
   "metadata": {
    "collapsed": false
   },
   "outputs": [],
   "source": [
    "plt.plot(f,np.real(yt),'-',f,np.imag(yt),'--')\n",
    "plt.legend(['Real','Imaginary  '])\n",
    "plt.title('Fourier transform')\n",
    "plt.xlabel('Frequency')\n",
    "plt.ylabel('Transform')"
   ]
  },
  {
   "cell_type": "code",
   "execution_count": null,
   "metadata": {
    "collapsed": false
   },
   "outputs": [],
   "source": [
    "#* Compute and graph the power spectrum of the time series\n",
    "powspec = np.empty(N)\n",
    "for i in range(N):\n",
    "    powspec[i] = abs(yt[i])**2\n",
    "plt.semilogy(f,powspec,'-')\n",
    "plt.title('Power spectrum (unnormalized)')\n",
    "plt.xlabel('Frequency')\n",
    "plt.ylabel('Power')"
   ]
  },
  {
   "cell_type": "code",
   "execution_count": null,
   "metadata": {
    "collapsed": true
   },
   "outputs": [],
   "source": []
  }
 ],
 "metadata": {
  "kernelspec": {
   "display_name": "Python [default]",
   "language": "python",
   "name": "python2"
  },
  "language_info": {
   "codemirror_mode": {
    "name": "ipython",
    "version": 2
   },
   "file_extension": ".py",
   "mimetype": "text/x-python",
   "name": "python",
   "nbconvert_exporter": "python",
   "pygments_lexer": "ipython2",
   "version": "2.7.12"
  }
 },
 "nbformat": 4,
 "nbformat_minor": 1
}
