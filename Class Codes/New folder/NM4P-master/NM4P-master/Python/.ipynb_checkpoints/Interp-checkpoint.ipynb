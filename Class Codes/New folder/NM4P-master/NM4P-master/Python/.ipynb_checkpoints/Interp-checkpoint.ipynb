{
 "cells": [
  {
   "cell_type": "code",
   "execution_count": null,
   "metadata": {
    "collapsed": false
   },
   "outputs": [],
   "source": [
    "# interp - Program to interpolate data using Lagrange \n",
    "# polynomial to fit quadratic to three data points\n",
    "\n",
    "# Set up configuration options and special features\n",
    "import numpy as np\n",
    "import matplotlib.pyplot as plt\n",
    "%matplotlib inline"
   ]
  },
  {
   "cell_type": "code",
   "execution_count": null,
   "metadata": {
    "collapsed": true
   },
   "outputs": [],
   "source": [
    "def intrpf(xi,x,y):\n",
    "    # Function to interpolate between data points\n",
    "    # using Lagrange polynomial (quadratic)\n",
    "    # Inputs\n",
    "    #   x    Vector of x coordinates of data points (3 values)\n",
    "    #   y    Vector of y coordinates of data points (3 values)\n",
    "    #   xi   The x value where interpolation is computed\n",
    "    # Output\n",
    "    #   yi   The interpolation polynomial evaluated at xi\n",
    "\n",
    "    #* Calculate yi = p(xi) using Lagrange polynomial\n",
    "    yi = ( (xi-x[1])*(xi-x[2])/((x[0]-x[1])*(x[0]-x[2])) * y[0] \n",
    "    + (xi-x[0])*(xi-x[2])/((x[1]-x[0])*(x[1]-x[2])) * y[1] \n",
    "    + (xi-x[0])*(xi-x[1])/((x[2]-x[0])*(x[2]-x[1])) * y[2] )\n",
    "    return yi"
   ]
  },
  {
   "cell_type": "code",
   "execution_count": null,
   "metadata": {
    "collapsed": false
   },
   "outputs": [],
   "source": [
    "#* Initialize the data points to be fit by quadratic\n",
    "x = np.empty(3)\n",
    "y = np.empty(3)\n",
    "print 'Enter data points as x,y pairs (e.g., [1, 2])'\n",
    "for i in range(3):\n",
    "    temp = np.array(input('Enter data point: '))\n",
    "    x[i] = temp[0]\n",
    "    y[i] = temp[1]"
   ]
  },
  {
   "cell_type": "code",
   "execution_count": null,
   "metadata": {
    "collapsed": false
   },
   "outputs": [],
   "source": [
    "#* Establish the range of interpolation (from x_min to x_max)\n",
    "xr = np.array(input('Enter range of x values as [x_min, x_max]: '))"
   ]
  },
  {
   "cell_type": "code",
   "execution_count": null,
   "metadata": {
    "collapsed": false
   },
   "outputs": [],
   "source": [
    "#* Find yi for the desired interpolation values xi using\n",
    "#  the function intrpf\n",
    "nplot = 100     # Number of points for interpolation curve\n",
    "xi = np.empty(nplot)\n",
    "yi = np.empty(nplot)\n",
    "for i in range(nplot) :\n",
    "    xi[i] = xr[0] + (xr[1]-xr[0])* i/float(nplot)\n",
    "    yi[i] = intrpf(xi[i], x, y)    # Use intrpf function to interpolate"
   ]
  },
  {
   "cell_type": "code",
   "execution_count": null,
   "metadata": {
    "collapsed": false
   },
   "outputs": [],
   "source": [
    "#* Plot the curve given by (xi,yi) and mark original data points\n",
    "plt.plot(x,y,'*',xi,yi,'-')\n",
    "plt.xlabel('x')\n",
    "plt.ylabel('y')\n",
    "plt.title('Three point interpolation')\n",
    "plt.legend(['Data points','Interpolation  '])"
   ]
  }
 ],
 "metadata": {
  "anaconda-cloud": {},
  "kernelspec": {
   "display_name": "Python [default]",
   "language": "python",
   "name": "python2"
  },
  "language_info": {
   "codemirror_mode": {
    "name": "ipython",
    "version": 2
   },
   "file_extension": ".py",
   "mimetype": "text/x-python",
   "name": "python",
   "nbconvert_exporter": "python",
   "pygments_lexer": "ipython2",
   "version": "2.7.12"
  }
 },
 "nbformat": 4,
 "nbformat_minor": 1
}
