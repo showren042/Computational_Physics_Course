{
 "cells": [
  {
   "cell_type": "code",
   "execution_count": null,
   "metadata": {
    "collapsed": false
   },
   "outputs": [],
   "source": [
    "# pendul - Program to compute the motion of a simple pendulum\n",
    "# using the Euler or Verlet method\n",
    "\n",
    "# Set up configuration options and special features\n",
    "import numpy as np\n",
    "import matplotlib.pyplot as plt\n",
    "%matplotlib inline"
   ]
  },
  {
   "cell_type": "code",
   "execution_count": null,
   "metadata": {
    "collapsed": false
   },
   "outputs": [],
   "source": [
    "#* Select the numerical method to use: Euler or Verlet\n",
    "NumericalMethod = input('Choose a numerical method (1: Euler; 2: Verlet): ')\n",
    "\n",
    "#* Set initial position and velocity of pendulum\n",
    "theta0 = input('Enter initial angle (in degrees): ')\n",
    "theta = theta0 * np.pi /180     # Convert angle to radians\n",
    "omega = 0.0                     # Set the initial velocity\n",
    "\n",
    "#* Set the physical constants and other variables\n",
    "g_over_L = 1.0            # The constant g/L\n",
    "time = 0.0                # Initial time\n",
    "irev = 0                  # Used to count number of reversals\n",
    "tau = input('Enter time step: ')\n",
    "\n",
    "#* Take one backward step to start Verlet\n",
    "accel = -g_over_L * np.sin(theta)    # Gravitational acceleration\n",
    "theta_old = theta - omega*tau + 0.5*accel*tau**2    "
   ]
  },
  {
   "cell_type": "code",
   "execution_count": null,
   "metadata": {
    "collapsed": false
   },
   "outputs": [],
   "source": [
    "#* Loop over desired number of steps with given time step\n",
    "#    and numerical method\n",
    "nstep = input('Enter number of time steps: ')\n",
    "t_plot = np.empty(nstep)\n",
    "th_plot = np.empty(nstep)\n",
    "period = np.empty(nstep)\n",
    "for istep in range(nstep):  \n",
    "\n",
    "    #* Record angle and time for plotting\n",
    "    t_plot[istep] = time            \n",
    "    th_plot[istep] = theta*180/np.pi  # Convert angle to degrees\n",
    "    time = time + tau\n",
    "  \n",
    "    #* Compute new position and velocity using \n",
    "    #    Euler or Verlet method\n",
    "    accel = -g_over_L * np.sin(theta)   # Gravitational acceleration\n",
    "    if NumericalMethod == 1 :\n",
    "        theta_old = theta               # Save previous angle\n",
    "        theta = theta + tau*omega       # Euler method\n",
    "        omega = omega + tau*accel \n",
    "    else:  \n",
    "        theta_new = 2*theta - theta_old + tau**2*accel\n",
    "        theta_old = theta               # Verlet method\n",
    "        theta = theta_new  \n",
    "  \n",
    "    #* Test if the pendulum has passed through theta = 0;\n",
    "    #    if yes, use time to estimate period\n",
    "    if theta*theta_old < 0 :  # Test position for sign change\n",
    "        print 'Turning point at time t = ',time\n",
    "        if irev == 0 :          # If this is the first change,\n",
    "            time_old = time     # just record the time\n",
    "        else:\n",
    "            period[irev-1] = 2*(time - time_old)\n",
    "            time_old = time\n",
    "        irev = irev + 1     # Increment the number of reversals"
   ]
  },
  {
   "cell_type": "code",
   "execution_count": null,
   "metadata": {
    "collapsed": false
   },
   "outputs": [],
   "source": [
    "# Estimate period of oscillation, including error bar\n",
    "nPeriod = irev-1    # Number of times the period was measured\n",
    "AvePeriod = np.mean(period[0:(nPeriod-1)])\n",
    "ErrorBar = np.std(period[0:(nPeriod-1)])/np.sqrt(nPeriod)\n",
    "print 'Average period = ', AvePeriod, ' +/- ', ErrorBar\n",
    "\n",
    "# Graph the oscillations as theta versus time\n",
    "plt.plot(t_plot,th_plot,'+')\n",
    "plt.xlabel('Time')\n",
    "plt.ylabel(r'$\\theta$ (degrees)')"
   ]
  }
 ],
 "metadata": {
  "kernelspec": {
   "display_name": "Python [default]",
   "language": "python",
   "name": "python2"
  },
  "language_info": {
   "codemirror_mode": {
    "name": "ipython",
    "version": 2
   },
   "file_extension": ".py",
   "mimetype": "text/x-python",
   "name": "python",
   "nbconvert_exporter": "python",
   "pygments_lexer": "ipython2",
   "version": "2.7.12"
  }
 },
 "nbformat": 4,
 "nbformat_minor": 1
}
