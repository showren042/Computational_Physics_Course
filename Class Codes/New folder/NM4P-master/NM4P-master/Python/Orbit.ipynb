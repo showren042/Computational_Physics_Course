{
 "cells": [
  {
   "cell_type": "code",
   "execution_count": null,
   "metadata": {
    "collapsed": false
   },
   "outputs": [],
   "source": [
    "# orbit - Program to compute the orbit of a comet.\n",
    "\n",
    "# Set up configuration options and special features\n",
    "import numpy as np\n",
    "import matplotlib.pyplot as plt"
   ]
  },
  {
   "cell_type": "code",
   "execution_count": null,
   "metadata": {
    "collapsed": true
   },
   "outputs": [],
   "source": [
    "from nm4p.rk4 import rk4\n",
    "from nm4p.rka import rka"
   ]
  },
  {
   "cell_type": "code",
   "execution_count": null,
   "metadata": {
    "collapsed": true
   },
   "outputs": [],
   "source": [
    "#* Define the gravrk function used by the Runge-Kutta routines\n",
    "def gravrk(s,t,GM):\n",
    "    \"\"\"Returns right-hand side of Kepler ODE; used by Runge-Kutta routines\n",
    "       Inputs\n",
    "         s      State vector [r(1) r(2) v(1) v(2)]\n",
    "         t      Time (not used)\n",
    "         GM     Parameter G*M (gravitational const. * solar mass)\n",
    "       Output\n",
    "         deriv  Derivatives [dr(1)/dt dr(2)/dt dv(1)/dt dv(2)/dt]\n",
    "    \"\"\"\n",
    "    \n",
    "    #* Compute acceleration\n",
    "    r = np.array([s[0], s[1]])  # Unravel the vector s into position and velocity\n",
    "    v = np.array([s[2], s[3]])\n",
    "    accel = -GM*r/np.linalg.norm(r)**3    # Gravitational acceleration\n",
    "\n",
    "    #* Return derivatives [dr(1)/dt dr(2)/dt dv(1)/dt dv(2)/dt]\n",
    "    deriv = np.array([v[0], v[1], accel[0], accel[1]])\n",
    "    return deriv"
   ]
  },
  {
   "cell_type": "code",
   "execution_count": null,
   "metadata": {
    "collapsed": false
   },
   "outputs": [],
   "source": [
    "#* Set initial position and velocity of the comet.\n",
    "r0 = input('Enter initial radial distance (AU): ')  \n",
    "v0 = input('Enter initial tangential velocity (AU/yr): ')\n",
    "r = np.array([r0, 0])\n",
    "v = np.array([0, v0])\n",
    "state = np.array([ r[0], r[1], v[0], v[1] ])   # Used by R-K routines\n",
    "\n",
    "#* Set physical parameters (mass, G*M)\n",
    "GM = 4 * np.pi**2      # Grav. const. * Mass of Sun (au^3/yr^2)\n",
    "mass = 1.0             # Mass of comet \n",
    "adaptErr = 1.0e-3      # Error parameter used by adaptive Runge-Kutta\n",
    "time = 0.0"
   ]
  },
  {
   "cell_type": "code",
   "execution_count": null,
   "metadata": {
    "collapsed": false
   },
   "outputs": [],
   "source": [
    "#* Loop over desired number of steps using specified\n",
    "#  numerical method.\n",
    "nStep = input('Enter number of steps: ')\n",
    "tau = input('Enter time step (yr): ')\n",
    "NumericalMethod = input(\n",
    "    'Choose a numerical method: 1) Euler; 2) Euler-Cromer; 3) Runge-Kutta; 4) Adaptive R-K')\n",
    "rplot = np.empty(nStep)           \n",
    "thplot = np.empty(nStep)\n",
    "tplot = np.empty(nStep)\n",
    "kinetic = np.empty(nStep)\n",
    "potential = np.empty(nStep)\n",
    "\n",
    "for iStep in range(nStep):  \n",
    "\n",
    "    #* Record position and energy for plotting.\n",
    "    rplot[iStep] = np.linalg.norm(r)                # Record position for polar plot\n",
    "    thplot[iStep] = np.arctan2(r[1],r[0])\n",
    "    tplot[iStep] = time\n",
    "    kinetic[iStep] = .5*mass*np.linalg.norm(v)**2   # Record energies\n",
    "    potential[iStep] = - GM*mass/np.linalg.norm(r)\n",
    "  \n",
    "    #* Calculate new position and velocity using desired method.\n",
    "    if NumericalMethod == 1 :\n",
    "        accel = -GM*r/np.linalg.norm(r)**3   \n",
    "        r = r + tau*v              # Euler step\n",
    "        v = v + tau*accel  \n",
    "        time = time + tau    \n",
    "    elif NumericalMethod == 2 :\n",
    "        accel = -GM*r/np.linalg.norm(r)**3   \n",
    "        v = v + tau*accel \n",
    "        r = r + tau*v              # Euler-Cromer step\n",
    "        time = time + tau     \n",
    "    elif NumericalMethod == 3 :\n",
    "        state = rk4(state,time,tau,gravrk,GM)\n",
    "        r = np.array([state[0], state[1]])   # 4th order Runge-Kutta\n",
    "        v = np.array([state[2], state[3]])\n",
    "        time = time + tau   \n",
    "    else : \n",
    "        [state, time, tau] = rka(state,time,tau,adaptErr,gravrk,GM)\n",
    "        r = np.array([state[0], state[1]])    # Adaptive Runge-Kutta\n",
    "        v = np.array([state[2], state[3]])"
   ]
  },
  {
   "cell_type": "code",
   "execution_count": null,
   "metadata": {
    "collapsed": false
   },
   "outputs": [],
   "source": [
    "#* Graph the trajectory of the comet.\n",
    "ax = plt.subplot(111, projection='polar')  # Use polar plot for graphing orbit\n",
    "ax.plot(thplot,rplot,'+')  \n",
    "ax.set_title('Distance (AU)')  \n",
    "ax.grid(True)\n",
    "plt.show()"
   ]
  },
  {
   "cell_type": "code",
   "execution_count": null,
   "metadata": {
    "collapsed": false
   },
   "outputs": [],
   "source": [
    "#* Graph the energy of the comet versus time.\n",
    "totalE = kinetic + potential   # Total energy\n",
    "plt.plot(tplot,kinetic,'-.',tplot,potential,'--',tplot,totalE,'-')\n",
    "plt.legend(['Kinetic','Potential','Total']);\n",
    "plt.xlabel('Time (yr)')\n",
    "plt.ylabel(r'Energy ($M AU^2/yr^2$)')\n",
    "plt.show()"
   ]
  }
 ],
 "metadata": {
  "anaconda-cloud": {},
  "kernelspec": {
   "display_name": "Python [default]",
   "language": "python",
   "name": "python2"
  },
  "language_info": {
   "codemirror_mode": {
    "name": "ipython",
    "version": 2
   },
   "file_extension": ".py",
   "mimetype": "text/x-python",
   "name": "python",
   "nbconvert_exporter": "python",
   "pygments_lexer": "ipython2",
   "version": "2.7.12"
  }
 },
 "nbformat": 4,
 "nbformat_minor": 1
}
