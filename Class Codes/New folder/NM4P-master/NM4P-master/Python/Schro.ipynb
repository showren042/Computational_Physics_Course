{
 "cells": [
  {
   "cell_type": "code",
   "execution_count": null,
   "metadata": {
    "collapsed": false
   },
   "outputs": [],
   "source": [
    "#  schro - Program to solve the Schrodinger equation \n",
    "#  for a free particle using the Crank-Nicolson scheme\n",
    "\n",
    "# Set up configuration options and special features\n",
    "import numpy as np\n",
    "import matplotlib.pyplot as plt"
   ]
  },
  {
   "cell_type": "code",
   "execution_count": null,
   "metadata": {
    "collapsed": false
   },
   "outputs": [],
   "source": [
    "#* Initialize parameters (grid spacing, time step, etc.)\n",
    "i_imag = 1j             # Imaginary i\n",
    "N = input('Enter number of grid points: ');\n",
    "L = 100.                # System extends from -L/2 to L/2\n",
    "h = L/(N-1)             # Grid size\n",
    "x = np.arange(N)*h - L/2.  # Coordinates  of grid points\n",
    "h_bar = 1.              # Natural units\n",
    "mass = 1.               # Natural units\n",
    "tau = input('Enter time step: ')"
   ]
  },
  {
   "cell_type": "code",
   "execution_count": null,
   "metadata": {
    "collapsed": false
   },
   "outputs": [],
   "source": [
    "#* Set up the Hamiltonian operator matrix\n",
    "ham = np.zeros((N,N))     # Set all elements to zero\n",
    "coeff = -h_bar**2/(2*mass*h**2)\n",
    "for i in range(1,N-1) :\n",
    "    ham[i,i-1] = coeff\n",
    "    ham[i,i] = -2*coeff   # Set interior rows\n",
    "    ham[i,i+1] = coeff\n",
    "\n",
    "# First and last rows for periodic boundary conditions\n",
    "ham[0,-1] = coeff;   ham[0,0] = -2*coeff;     ham[0,1] = coeff\n",
    "ham[-1,-2] = coeff;  ham[-1,-1] = -2*coeff;   ham[-1,0] = coeff\n",
    "\n",
    "#* Compute the Crank-Nicolson matrix\n",
    "dCN = np.dot( np.linalg.inv(np.identity(N) + .5*i_imag*tau/h_bar*ham), \n",
    "             (np.identity(N) - .5*i_imag*tau/h_bar*ham) )"
   ]
  },
  {
   "cell_type": "code",
   "execution_count": null,
   "metadata": {
    "collapsed": false
   },
   "outputs": [],
   "source": [
    "#* Initialize the wavefunction \n",
    "x0 = 0.          # Location of the center of the wavepacket\n",
    "velocity = 0.5   # Average velocity of the packet\n",
    "k0 = mass*velocity/h_bar        # Average wavenumber\n",
    "sigma0 = L/10.   # Standard deviation of the wavefunction\n",
    "Norm_psi = 1./(np.sqrt(sigma0*np.sqrt(np.pi)))   # Normalization\n",
    "psi = np.empty(N,dtype=complex)\n",
    "for i in range(N) :\n",
    "    psi[i] = Norm_psi * np.exp(i_imag*k0*x[i]) * np.exp(-(x[i]-x0)**2/(2*sigma0**2))"
   ]
  },
  {
   "cell_type": "code",
   "execution_count": null,
   "metadata": {
    "collapsed": false
   },
   "outputs": [],
   "source": [
    "#* Plot the initial wavefunction\n",
    "plt.plot(x,np.real(psi),'-',x,np.imag(psi),'--')\n",
    "plt.xlabel('x');  plt.ylabel(r'$\\psi(x)$')\n",
    "plt.legend(('Real  ','Imag  '))\n",
    "plt.title('Initial wave function')\n",
    "plt.show()"
   ]
  },
  {
   "cell_type": "code",
   "execution_count": null,
   "metadata": {
    "collapsed": false
   },
   "outputs": [],
   "source": [
    "#* Initialize loop and plot variables \n",
    "max_iter = int(L/(velocity*tau)+.5)       # Particle should circle system\n",
    "plot_iter = max_iter/8                    # Produce 8+1 curves\n",
    "p_plot = np.empty((N,max_iter+1))         # Note that P(x,t) is real\n",
    "p_plot[:,0] = np.absolute(psi[:])**2      # Record initial condition\n",
    "iplot = 0\n",
    "axisV = [-L/2., L/2., 0., max(p_plot[:,0])]   # Fix axis min and max"
   ]
  },
  {
   "cell_type": "code",
   "execution_count": null,
   "metadata": {
    "collapsed": false
   },
   "outputs": [],
   "source": [
    "#* Loop over desired number of steps (wave circles system once)\n",
    "for iter in range(max_iter) :\n",
    "\n",
    "    #* Compute new wave function using the Crank-Nicolson scheme\n",
    "    psi = np.dot(dCN,psi) \n",
    "  \n",
    "    #* Periodically record values for plotting\n",
    "    if (iter+1) % plot_iter < 1 :   \n",
    "        iplot += 1\n",
    "        p_plot[:,iplot] = np.absolute(psi[:])**2 \n",
    "        plt.plot(x,p_plot[:,iplot]);     # Display snap-shot of P(x)\n",
    "        plt.xlabel('x');   plt.ylabel('P(x,t)')\n",
    "        plt.title('Finished %d of %d iterations' % (iter,max_iter))\n",
    "        plt.axis(axisV);  plt.show()"
   ]
  },
  {
   "cell_type": "code",
   "execution_count": null,
   "metadata": {
    "collapsed": false
   },
   "outputs": [],
   "source": [
    "#* Plot probability versus position at various times\n",
    "pFinal = np.empty(N)\n",
    "pFinal = np.absolute(psi[:])**2\n",
    "for i in range(iplot+1) :\n",
    "    plt.plot(x,p_plot[:,i])\n",
    "plt.xlabel('x'); plt.ylabel('P(x,t)')\n",
    "plt.title('Probability density at various times')\n",
    "plt.show()"
   ]
  }
 ],
 "metadata": {
  "anaconda-cloud": {},
  "kernelspec": {
   "display_name": "Python [default]",
   "language": "python",
   "name": "python2"
  },
  "language_info": {
   "codemirror_mode": {
    "name": "ipython",
    "version": 2
   },
   "file_extension": ".py",
   "mimetype": "text/x-python",
   "name": "python",
   "nbconvert_exporter": "python",
   "pygments_lexer": "ipython2",
   "version": "2.7.12"
  }
 },
 "nbformat": 4,
 "nbformat_minor": 1
}
