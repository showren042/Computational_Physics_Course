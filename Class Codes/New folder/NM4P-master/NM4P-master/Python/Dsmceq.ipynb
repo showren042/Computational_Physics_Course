{
 "cells": [
  {
   "cell_type": "code",
   "execution_count": null,
   "metadata": {
    "collapsed": true
   },
   "outputs": [],
   "source": [
    "# dsmceq - Dilute gas simulation using DSMC algorithm\n",
    "# This version illustrates the approach to equilibrium\n",
    "\n",
    "# Set up configuration options and special features\n",
    "import numpy as np\n",
    "import matplotlib.pyplot as plt"
   ]
  },
  {
   "cell_type": "code",
   "execution_count": null,
   "metadata": {
    "collapsed": false
   },
   "outputs": [],
   "source": [
    "from nm4p.dsmc import sortList\n",
    "from nm4p.dsmc import sorter\n",
    "from nm4p.dsmc import colider"
   ]
  },
  {
   "cell_type": "code",
   "execution_count": null,
   "metadata": {
    "collapsed": false
   },
   "outputs": [],
   "source": [
    "#* Initialize constants  (particle mass, diameter, etc.)\n",
    "boltz = 1.3806e-23     # Boltzmann's constant (J/K)\n",
    "mass = 6.63e-26        # Mass of argon atom (kg)\n",
    "diam = 3.66e-10        # Effective diameter of argon atom (m)\n",
    "T = 273.               # Temperature (K)\n",
    "density = 1.78         # Density of argon at STP (kg/m^3)\n",
    "L = 1.e-6              # System size is one micron\n",
    "npart = input('Enter number of simulation particles: ')\n",
    "eff_num = density/mass * L**3 /npart\n",
    "print 'Each particle represents ', eff_num, ' atoms'"
   ]
  },
  {
   "cell_type": "code",
   "execution_count": null,
   "metadata": {
    "collapsed": false
   },
   "outputs": [],
   "source": [
    "#* Assign random positions and velocities to particles\n",
    "np.random.seed(0)          # Initialize random number generator\n",
    "x = np.empty(npart)\n",
    "for i in range(npart) :\n",
    "    x[i] = np.random.uniform(0.,L)    # Assign random positions\n",
    "v_init = np.sqrt(3*boltz*T/mass)      # Initial speed\n",
    "v = np.zeros((npart,3))     \n",
    "for i in range(npart) :       # Only x-component is non-zero\n",
    "    v[i,0] = v_init * (1 - 2*np.floor(2*np.random.random()))"
   ]
  },
  {
   "cell_type": "code",
   "execution_count": null,
   "metadata": {
    "collapsed": false
   },
   "outputs": [],
   "source": [
    "#* Plot the initial speed distribution\n",
    "vmag = np.sqrt( v[:,0]**2 + v[:,1]**2 + v[:,2]**2 )\n",
    "plt.hist( vmag, bins=20, range=(0,1000))\n",
    "plt.title('Initial speed distribution')\n",
    "plt.xlabel('Speed (m/s)')\n",
    "plt.ylabel('Number')\n",
    "plt.show()"
   ]
  },
  {
   "cell_type": "code",
   "execution_count": null,
   "metadata": {
    "collapsed": false
   },
   "outputs": [],
   "source": [
    "#* Initialize variables used for evaluating collisions\n",
    "ncell = 15                      # Number of cells\n",
    "tau = 0.2*(L/ncell)/v_init      # Set timestep tau\n",
    "vrmax = 3*v_init*np.ones(ncell)    # Estimated max rel. speed\n",
    "selxtra = np.zeros(ncell)          # Used by routine \"colider\"\n",
    "coeff = 0.5*eff_num*np.pi*diam**2*tau/(L**3/ncell)\n",
    "coltot = 0                      # Count total collisions\n",
    "\n",
    "#* Declare sortList object for lists used in sorting\n",
    "sortData = sortList(ncell, npart)"
   ]
  },
  {
   "cell_type": "code",
   "execution_count": null,
   "metadata": {
    "collapsed": false,
    "scrolled": true
   },
   "outputs": [],
   "source": [
    "#* Loop for the desired number of time steps\n",
    "nstep = input('Enter total number of time steps: ')\n",
    "for istep in range(nstep) :\n",
    "\n",
    "    #* Move all the particles ballistically\n",
    "    x = x + v[:,0]*tau          # Update x position of particle\n",
    "    x = np.remainder( x+L, L)   # Periodic boundary conditions\n",
    "\n",
    "    #* Sort the particles into cells\n",
    "    sorter(x,L,sortData);\n",
    "  \n",
    "    #* Evaluate collisions among the particles\n",
    "    col = colider(v,vrmax,tau,selxtra,coeff,sortData)\n",
    "    coltot = coltot + col \n",
    "  \n",
    "    #* Periodically display the current progress\n",
    "    if (istep+1) % 10 < 1 :\n",
    "        vmag = np.sqrt( v[:,0]**2 + v[:,1]**2 + v[:,2]**2 )\n",
    "        plt.hist( vmag, bins=11, range=(0,1000))\n",
    "        plt.title('Done %d of %d steps; %d collisions' % (istep, nstep, coltot))\n",
    "        plt.xlabel('Speed (m/s)')\n",
    "        plt.ylabel('Number')\n",
    "        plt.show()"
   ]
  },
  {
   "cell_type": "code",
   "execution_count": null,
   "metadata": {
    "collapsed": false
   },
   "outputs": [],
   "source": [
    "#* Plot the initial speed distribution\\n\",\n",
    "vmag = np.sqrt( v[:,0]**2 + v[:,1]**2 + v[:,2]**2 )\n",
    "plt.hist( vmag, bins=11, range=(0,1000))\n",
    "plt.title('Final speed distribution')\n",
    "plt.xlabel('Speed (m/s)')\n",
    "plt.ylabel('Number')\n",
    "plt.show()"
   ]
  }
 ],
 "metadata": {
  "anaconda-cloud": {},
  "kernelspec": {
   "display_name": "Python [default]",
   "language": "python",
   "name": "python2"
  },
  "language_info": {
   "codemirror_mode": {
    "name": "ipython",
    "version": 2
   },
   "file_extension": ".py",
   "mimetype": "text/x-python",
   "name": "python",
   "nbconvert_exporter": "python",
   "pygments_lexer": "ipython2",
   "version": "2.7.12"
  }
 },
 "nbformat": 4,
 "nbformat_minor": 1
}
