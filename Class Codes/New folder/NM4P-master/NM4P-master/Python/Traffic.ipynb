{
 "cells": [
  {
   "cell_type": "code",
   "execution_count": null,
   "metadata": {
    "collapsed": false
   },
   "outputs": [],
   "source": [
    "# traffic - Program to solve the generalized Burger  \n",
    "# equation for the traffic at a stop light problem\n",
    "\n",
    "# Set up configuration options and special features\n",
    "import numpy as np\n",
    "import matplotlib.pyplot as plt"
   ]
  },
  {
   "cell_type": "code",
   "execution_count": null,
   "metadata": {
    "collapsed": false
   },
   "outputs": [],
   "source": [
    "#* Select numerical parameters (time step, grid spacing, etc.).\n",
    "method = input('Choose a numerical method, 1) FTCS; 2) Lax; 3) Lax-Wendroff :')\n",
    "N = input('Enter the number of grid points: ')\n",
    "L = 400.      # System size (meters)\n",
    "h = L/N       # Grid spacing for periodic boundary conditions\n",
    "v_max = 25.    # Maximum car speed (m/s)\n",
    "print 'Suggested timestep is ', h/v_max\n",
    "tau = input('Enter time step (tau): ')\n",
    "print 'Last car starts moving after ', (L/4)/(v_max*tau), 'steps'\n",
    "nstep = input('Enter number of steps: ')\n",
    "coeff = tau/(2*h)          # Coefficient used by all schemes\n",
    "coefflw = tau**2/(2*h**2)  # Coefficient used by Lax-Wendroff"
   ]
  },
  {
   "cell_type": "code",
   "execution_count": null,
   "metadata": {
    "collapsed": false
   },
   "outputs": [],
   "source": [
    "#* Set initial and boundary conditions\n",
    "rho_max = 1.0                   # Maximum density\n",
    "Flow_max = 0.25*rho_max*v_max   # Maximum Flow\n",
    "Flow = np.empty(N)\n",
    "cp = np.empty(N);  cm = np.empty(N)\n",
    "# Initial condition is a square pulse from x = -L/4 to x = 0\n",
    "rho = np.zeros(N)\n",
    "for i in range(int(N/4),int(N/2)) :\n",
    "    rho[i] = rho_max     # Max density in the square pulse\n",
    "\n",
    "rho[int(N/2)] = rho_max/2   # Try running without this line\n",
    "\n",
    "# Use periodic boundary conditions\n",
    "ip = np.arange(N) + 1  \n",
    "ip[N-1] = 0          # ip = i+1 with periodic b.c.\n",
    "im = np.arange(N) - 1  \n",
    "im[0] = N-1          # im = i-1 with periodic b.c.\n",
    "\n",
    "#* Initialize plotting variables.\n",
    "iplot = 1\n",
    "xplot = (np.arange(N)-1/2.)*h - L/2.    # Record x scale for plot\n",
    "rplot = np.empty((N,nstep+1))\n",
    "tplot = np.empty(nstep+1)\n",
    "rplot[:,0] = np.copy(rho)   # Record the initial state\n",
    "tplot[0] = 0                # Record the initial time (t=0)"
   ]
  },
  {
   "cell_type": "code",
   "execution_count": null,
   "metadata": {
    "collapsed": false
   },
   "outputs": [],
   "source": [
    "#* Loop over desired number of steps.\n",
    "for istep in range(nstep) :\n",
    "\n",
    "    #* Compute the flow = (Density)*(Velocity)\n",
    "    Flow[:] = rho[:] * (v_max*(1 - rho[:]/rho_max))\n",
    "  \n",
    "    #* Compute new values of density using  \n",
    "    #  FTCS, Lax or Lax-Wendroff method.\n",
    "    if method == 1 :      ### FTCS method ###\n",
    "        rho[:] = rho[:] - coeff*( Flow[ip] - Flow[im] )\n",
    "    elif method == 2 :    ### Lax method ###\n",
    "        rho[:] = .5*( rho[ip] + rho[im] ) - coeff*( Flow[ip] - Flow[im] )\n",
    "    else :                ### Lax-Wendroff method ###\n",
    "        cp[:] = v_max*(1 - (rho[ip]+rho[:])/rho_max);\n",
    "        cm[:] = v_max*(1 - (rho[:]+rho[im])/rho_max);\n",
    "        rho[:] = rho[:] - coeff*( Flow[ip] - Flow[im] ) + coefflw*(\n",
    "            cp[:]*(Flow[ip]-Flow[:]) - cm[:]*(Flow[:]-Flow[im]) )\n",
    "\n",
    "    #* Record density for plotting.\n",
    "    rplot[:,iplot] = np.copy(rho)\n",
    "    tplot[iplot] = tau*(istep+1)\n",
    "    iplot += 1"
   ]
  },
  {
   "cell_type": "code",
   "execution_count": null,
   "metadata": {
    "collapsed": false
   },
   "outputs": [],
   "source": [
    "#* Graph density versus position and time as wire-mesh plot\n",
    "from matplotlib import cm\n",
    "from mpl_toolkits.mplot3d import Axes3D\n",
    "\n",
    "fig = plt.figure()\n",
    "ax = fig.gca(projection = '3d')\n",
    "Tp, Xp = np.meshgrid(tplot[0:iplot], xplot)\n",
    "ax.plot_surface(Tp, Xp, rplot[:,0:iplot], rstride=1, cstride=1, cmap=cm.gray)\n",
    "ax.view_init(elev=30., azim=10.)\n",
    "ax.set_xlabel('t')\n",
    "ax.set_ylabel('x')\n",
    "ax.set_zlabel('rho')\n",
    "ax.set_title('Density versus position and time')\n",
    "plt.show()"
   ]
  },
  {
   "cell_type": "code",
   "execution_count": null,
   "metadata": {
    "collapsed": false
   },
   "outputs": [],
   "source": [
    "#* Graph contours of density versus position and time.\n",
    "levels = np.linspace(0., 1., num=11) \n",
    "ct = plt.contour(xplot, tplot, np.flipud(np.rot90(rplot)), levels) \n",
    "plt.clabel(ct, fmt='%1.2f') \n",
    "plt.xlabel('x')\n",
    "plt.ylabel('time')\n",
    "plt.title('Density contours')\n",
    "plt.show()"
   ]
  }
 ],
 "metadata": {
  "anaconda-cloud": {},
  "kernelspec": {
   "display_name": "Python [default]",
   "language": "python",
   "name": "python2"
  },
  "language_info": {
   "codemirror_mode": {
    "name": "ipython",
    "version": 2
   },
   "file_extension": ".py",
   "mimetype": "text/x-python",
   "name": "python",
   "nbconvert_exporter": "python",
   "pygments_lexer": "ipython2",
   "version": "2.7.12"
  }
 },
 "nbformat": 4,
 "nbformat_minor": 1
}
