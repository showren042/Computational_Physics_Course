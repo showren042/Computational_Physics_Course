{
 "cells": [
  {
   "cell_type": "code",
   "execution_count": null,
   "metadata": {
    "collapsed": false
   },
   "outputs": [],
   "source": [
    "# orthog - Program to test if a pair of vectors \n",
    "# is orthogonal.  Assumes vectors are in 3D space\n",
    "\n",
    "# Set up configuration options and special features\n",
    "import numpy as np"
   ]
  },
  {
   "cell_type": "code",
   "execution_count": null,
   "metadata": {
    "collapsed": false
   },
   "outputs": [],
   "source": [
    "#* Initialize the vectors a and b\n",
    "a = np.array(input('Enter the first vector: '))\n",
    "b = np.array(input('Enter the second vector: '))"
   ]
  },
  {
   "cell_type": "code",
   "execution_count": null,
   "metadata": {
    "collapsed": false
   },
   "outputs": [],
   "source": [
    "#* Evaluate the dot product as sum over products of elements\n",
    "a_dot_b = 0.\n",
    "for i in range(3):\n",
    "    a_dot_b += a[i] * b[i]"
   ]
  },
  {
   "cell_type": "code",
   "execution_count": null,
   "metadata": {
    "collapsed": false
   },
   "outputs": [],
   "source": [
    "#* Print dot product and state whether vectors are orthogonal\n",
    "if a_dot_b == 0:\n",
    "    print 'Vectors are orthogonal'\n",
    "else:\n",
    "    print 'Vectors are NOT orthogonal'\n",
    "    print 'Dot product = ' , a_dot_b"
   ]
  }
 ],
 "metadata": {
  "anaconda-cloud": {},
  "kernelspec": {
   "display_name": "Python [default]",
   "language": "python",
   "name": "python2"
  },
  "language_info": {
   "codemirror_mode": {
    "name": "ipython",
    "version": 2
   },
   "file_extension": ".py",
   "mimetype": "text/x-python",
   "name": "python",
   "nbconvert_exporter": "python",
   "pygments_lexer": "ipython2",
   "version": "2.7.12"
  }
 },
 "nbformat": 4,
 "nbformat_minor": 1
}
