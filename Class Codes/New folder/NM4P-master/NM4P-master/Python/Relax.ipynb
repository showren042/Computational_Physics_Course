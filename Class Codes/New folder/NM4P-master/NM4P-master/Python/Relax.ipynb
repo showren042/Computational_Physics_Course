{
 "cells": [
  {
   "cell_type": "code",
   "execution_count": null,
   "metadata": {
    "collapsed": false
   },
   "outputs": [],
   "source": [
    "# relax - Program to solve the Laplace equation using \n",
    "# Jacobi, Gauss-Seidel and SOR methods on a square grid\n",
    "\n",
    "# Set up configuration options and special features\n",
    "import numpy as np\n",
    "import matplotlib.pyplot as plt"
   ]
  },
  {
   "cell_type": "code",
   "execution_count": null,
   "metadata": {
    "collapsed": false
   },
   "outputs": [],
   "source": [
    "#* Initialize parameters (system size, grid spacing, etc.)\n",
    "method = input('Choose numerical method, 1) Jacobi; 2) Gauss-Seidel; 3) SOR')\n",
    "N = input('Enter number of grid points on a side: ')\n",
    "L = 1.            # System size (length)\n",
    "h = L/(N-1)       # Grid spacing\n",
    "x = np.arange(N)*h   # x coordinate\n",
    "y = np.arange(N)*h   # y coordinate\n",
    "\n",
    "#* Select over-relaxation factor (SOR only)\n",
    "if method == 3 :\n",
    "    omegaOpt = 2./(1.+np.sin(np.pi/N))    # Theoretical optimum\n",
    "    print 'Theoretical optimum omega = ', omegaOpt\n",
    "    omega = input('Enter desired omega: ')"
   ]
  },
  {
   "cell_type": "code",
   "execution_count": null,
   "metadata": {
    "collapsed": false
   },
   "outputs": [],
   "source": [
    "#* Set initial guess as first term in separation of variables soln.\n",
    "phi0 = 1.     # Potential at y=L\n",
    "phi = np.empty((N,N))\n",
    "for i in range(N) :\n",
    "    for j in range(N) :\n",
    "        phi[i,j] = phi0 * 4/(np.pi*np.sinh(np.pi)\n",
    "                            ) * np.sin(np.pi*x[i]/L)*np.sinh(np.pi*y[j]/L)\n",
    "\n",
    "#* Set boundary conditions\n",
    "phi[0,:] = 0.\n",
    "phi[-1,:] = 0.\n",
    "phi[:,0] = 0.\n",
    "phi[:,-1] = phi0*np.ones(N)    \n",
    "print 'Potential at y=L equals ', phi0\n",
    "print 'Potential is zero on all other boundaries'"
   ]
  },
  {
   "cell_type": "code",
   "execution_count": null,
   "metadata": {
    "collapsed": false
   },
   "outputs": [],
   "source": [
    "#* Loop until desired fractional change per iteration is obtained\n",
    "newphi = np.copy(phi)    # Copy of the solution (used only by Jacobi)\n",
    "iterMax = N**2           # Set max to avoid excessively long runs\n",
    "change = np.empty(iterMax)\n",
    "changeDesired = 1.e-4    # Stop when the change is given fraction\n",
    "print 'Desired fractional change = ', changeDesired\n",
    "for iter in range(iterMax) :\n",
    "    changeSum = 0\n",
    "  \n",
    "    if method == 1 :      ## Jacobi method ##\n",
    "        for i in range(1,N-1) :     # Loop over interior points only\n",
    "            for j in range(1,N-1) :     \n",
    "                newphi[i,j] = .25*( phi[i+1,j] + phi[i-1,j] + \n",
    "                                    phi[i,j-1] + phi[i,j+1] )\n",
    "                changeSum += abs( 1 - phi[i,j]/newphi[i,j] )\n",
    "        phi = np.copy(newphi)   \n",
    "\n",
    "    elif method == 2 :    ## G-S method ##\n",
    "        for i in range(1,N-1) :     # Loop over interior points only\n",
    "            for j in range(1,N-1) :     \n",
    "                temp = .25*( phi[i+1,j] + phi[i-1,j] + \n",
    "                             phi[i,j-1] + phi[i,j+1] )\n",
    "                changeSum += abs( 1 - phi[i,j]/temp )\n",
    "                phi[i,j] = temp\n",
    "\n",
    "    else :                ## SOR method ##    \n",
    "        for i in range(1,N-1) :     # Loop over interior points only\n",
    "            for j in range(1,N-1) :     \n",
    "                temp = .25*omega*( phi[i+1,j] + phi[i-1,j] + \n",
    "                                   phi[i,j-1] + phi[i,j+1] ) + (1-omega)*phi[i,j]\n",
    "                                       \n",
    "                changeSum += abs( 1 - phi[i,j]/temp )\n",
    "                phi[i,j] = temp\n",
    "\n",
    "    #* Check if fractional change is small enough to halt the iteration\n",
    "    change[iter] = changeSum/(N-2)**2\n",
    "    if (iter+1) % 10 < 1 :\n",
    "        print 'After ', iter+1, ' iterations, fractional change = ', change[iter]\n",
    "\n",
    "    if change[iter] < changeDesired : \n",
    "        print 'Desired accuracy achieved after ', iter+1, ' iterations' \n",
    "        print 'Breaking out of main loop'\n",
    "        break"
   ]
  },
  {
   "cell_type": "code",
   "execution_count": null,
   "metadata": {
    "collapsed": false
   },
   "outputs": [],
   "source": [
    "#* Plot final estimate of potential as a contour plot\n",
    "from matplotlib import cm\n",
    "from mpl_toolkits.mplot3d import Axes3D\n",
    "\n",
    "levels = np.linspace(0., 1., num=11) \n",
    "ct = plt.contour(x, y, np.flipud(np.rot90(phi)), levels) \n",
    "plt.clabel(ct, fmt='%1.2f') \n",
    "plt.xlabel('x')\n",
    "plt.ylabel('y')\n",
    "plt.title('Potential after %g iterations' % iter)\n",
    "plt.show()"
   ]
  },
  {
   "cell_type": "code",
   "execution_count": null,
   "metadata": {
    "collapsed": false
   },
   "outputs": [],
   "source": [
    "#* Plot final estimate of potential as contour and surface plots\n",
    "\n",
    "fig = plt.figure()\n",
    "ax = fig.gca(projection = '3d')\n",
    "Xp, Yp = np.meshgrid(x, y)\n",
    "ax.plot_surface(Xp, Yp, np.flipud(np.rot90(phi)), rstride=1, cstride=1, cmap=cm.gray)\n",
    "ax.view_init(elev=30., azim=210.)\n",
    "ax.set_xlabel('x')\n",
    "ax.set_ylabel('y')\n",
    "ax.set_zlabel(r'$\\Phi(x,y)$')\n",
    "plt.show()"
   ]
  }
 ],
 "metadata": {
  "kernelspec": {
   "display_name": "Python [default]",
   "language": "python",
   "name": "python2"
  },
  "language_info": {
   "codemirror_mode": {
    "name": "ipython",
    "version": 2
   },
   "file_extension": ".py",
   "mimetype": "text/x-python",
   "name": "python",
   "nbconvert_exporter": "python",
   "pygments_lexer": "ipython2",
   "version": "2.7.12"
  }
 },
 "nbformat": 4,
 "nbformat_minor": 1
}
