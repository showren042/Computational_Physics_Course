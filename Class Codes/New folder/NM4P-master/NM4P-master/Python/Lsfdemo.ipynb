{
 "cells": [
  {
   "cell_type": "code",
   "execution_count": null,
   "metadata": {
    "collapsed": false
   },
   "outputs": [],
   "source": [
    "# lsfdemo - Program for demonstrating least squares fit routines\n",
    "\n",
    "# Set up configuration options and special features\n",
    "import numpy as np\n",
    "import matplotlib.pyplot as plt"
   ]
  },
  {
   "cell_type": "code",
   "execution_count": null,
   "metadata": {
    "collapsed": true
   },
   "outputs": [],
   "source": [
    "from nm4p.linreg import linreg\n",
    "from nm4p.pollsf import pollsf"
   ]
  },
  {
   "cell_type": "code",
   "execution_count": null,
   "metadata": {
    "collapsed": false
   },
   "outputs": [],
   "source": [
    "#* Initialize data to be fit. Data is quadratic plus random number.\n",
    "print 'Curve fit data is created using the quadratic'\n",
    "print '  y(x) = c(0) + c(1)*x + c(2)*x**2'\n",
    "c = np.array(input('Enter the coefficients as [c(0), c(1), c(2)]: '))\n",
    "N = 50;                 # Number of data points\n",
    "x = np.arange(1,N+1)    # x = [1, 2, ..., N]\n",
    "y = np.empty(N)\n",
    "alpha = input('Enter estimated error bar: ')\n",
    "sigma = alpha * np.ones(N)  # Constant error bar\n",
    "np.random.seed(0)           # Initialize random number generator\n",
    "for i in range(N):\n",
    "    r = alpha * np.random.normal()    # Gaussian distributed random vector\n",
    "    y[i] = c[0] + c[1]*x[i] + c[2]*x[i]**2 + r       "
   ]
  },
  {
   "cell_type": "code",
   "execution_count": null,
   "metadata": {
    "collapsed": false
   },
   "outputs": [],
   "source": [
    "#* Fit the data to a straight line or a more general polynomial\n",
    "M = input('Enter number of fit parameters (=2 for line): ')\n",
    "if M == 2 :  \n",
    "    #* Linear regression (Straight line) fit\n",
    "    [a_fit, sig_a, yy, chisqr] = linreg(x, y, sigma)\n",
    "else: \n",
    "    #* Polynomial fit\n",
    "    [a_fit, sig_a, yy, chisqr] = pollsf(x, y, sigma, M)"
   ]
  },
  {
   "cell_type": "code",
   "execution_count": null,
   "metadata": {
    "collapsed": false
   },
   "outputs": [],
   "source": [
    "#* Print out the fit parameters, including their error bars.\n",
    "print 'Fit parameters:'\n",
    "for i in range(M):\n",
    "    print ' a[', i, '] = ', a_fit[i], ' +/- ', sig_a[i]\n",
    "\n",
    "#* Graph the data, with error bars, and fitting function.\n",
    "plt.errorbar(x,y,sigma,None,'o')   # Graph data with error bars\n",
    "plt.plot(x,yy,'-')            # Plot the fit on same graph as data\n",
    "plt.xlabel(r'$x_i$')  \n",
    "plt.ylabel(r'$y_i$ and $Y(x)$') \n",
    "plt.title('chi^2 = %d,    N-M = %d' % (chisqr, N-M) )\n",
    "plt.show()"
   ]
  }
 ],
 "metadata": {
  "anaconda-cloud": {},
  "kernelspec": {
   "display_name": "Python [default]",
   "language": "python",
   "name": "python2"
  },
  "language_info": {
   "codemirror_mode": {
    "name": "ipython",
    "version": 2
   },
   "file_extension": ".py",
   "mimetype": "text/x-python",
   "name": "python",
   "nbconvert_exporter": "python",
   "pygments_lexer": "ipython2",
   "version": "2.7.12"
  }
 },
 "nbformat": 4,
 "nbformat_minor": 1
}
