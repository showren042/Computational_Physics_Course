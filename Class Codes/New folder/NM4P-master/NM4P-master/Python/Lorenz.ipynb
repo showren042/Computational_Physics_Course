{
 "cells": [
  {
   "cell_type": "code",
   "execution_count": null,
   "metadata": {
    "collapsed": false
   },
   "outputs": [],
   "source": [
    "# lorenz - Program to compute the trajectories of the Lorenz \n",
    "# equations using the adaptive Runge-Kutta method.\n",
    "\n",
    "# Set up configuration options and special features\n",
    "import numpy as np\n",
    "import matplotlib.pyplot as plt"
   ]
  },
  {
   "cell_type": "code",
   "execution_count": null,
   "metadata": {
    "collapsed": true
   },
   "outputs": [],
   "source": [
    "from nm4p.rk4 import rk4\n",
    "from nm4p.rka import rka"
   ]
  },
  {
   "cell_type": "code",
   "execution_count": null,
   "metadata": {
    "collapsed": true
   },
   "outputs": [],
   "source": [
    "#* Define the lorzrk function used by the Runge-Kutta routines\n",
    "def lorzrk(s,t,param):\n",
    "    \"\"\"Returns right-hand side of Lorenz model ODEs\n",
    "       Inputs\n",
    "         s      State vector [x y z]\n",
    "         t      Time (not used)\n",
    "         param  Parameters [r sigma b]\n",
    "       Output\n",
    "         deriv  Derivatives [dx/dt dy/dt dz/dt]\n",
    "    \"\"\"\n",
    "    \n",
    "    #* For clarity, unravel input vectors\n",
    "    x, y, z = s[0], s[1], s[2]\n",
    "    r = param[0]\n",
    "    sigma = param[1]\n",
    "    b = param[2]\n",
    "\n",
    "    #* Return the derivatives [dx/dt dy/dt dz/dt]\n",
    "    deriv = np.empty(3)\n",
    "    deriv[0] = sigma*(y-x)\n",
    "    deriv[1] = r*x - y - x*z\n",
    "    deriv[2] = x*y - b*z\n",
    "    return deriv"
   ]
  },
  {
   "cell_type": "code",
   "execution_count": null,
   "metadata": {
    "collapsed": false
   },
   "outputs": [],
   "source": [
    "#* Set initial state x,y,z and parameters r,sigma,b\n",
    "state = np.array(input('Enter the initial position [x, y, z]: '))\n",
    "r = input('Enter the parameter r: ')\n",
    "sigma = 10.    # Parameter sigma\n",
    "b = 8./3.      # Parameter b\n",
    "param = np.array([r, sigma, b])  # Vector of parameters passed to rka\n",
    "tau = 1.       # Initial guess for the timestep\n",
    "err = 1.e-3    # Error tolerance"
   ]
  },
  {
   "cell_type": "code",
   "execution_count": null,
   "metadata": {
    "collapsed": false
   },
   "outputs": [],
   "source": [
    "#* Loop over the desired number of steps\n",
    "time = 0.\n",
    "nstep = input('Enter number of steps: ')\n",
    "tplot = np.empty(nstep)\n",
    "tauplot = np.empty(nstep)\n",
    "xplot, yplot, zplot = np.empty(nstep), np.empty(nstep), np.empty(nstep)\n",
    "for istep in range(nstep):\n",
    "\n",
    "    #* Record values for plotting\n",
    "    x, y, z = state[0], state[1], state[2]\n",
    "    tplot[istep] = time\n",
    "    tauplot[istep] = tau       \n",
    "    xplot[istep] = x;    yplot[istep] = y;    zplot[istep] = z \n",
    "    if (istep+1) % 50  < 1 :\n",
    "        print 'Finished ',istep, ' steps out of ',nstep\n",
    "\n",
    "    #* Find new state using adaptive Runge-Kutta\n",
    "    [state, time, tau] = rka(state, time, tau, err, lorzrk, param)"
   ]
  },
  {
   "cell_type": "code",
   "execution_count": null,
   "metadata": {
    "collapsed": false
   },
   "outputs": [],
   "source": [
    "#* Print max and min time step returned by rka\n",
    "tauMax = np.max(tauplot[1:nstep])\n",
    "tauMin = np.min(tauplot[1:nstep])\n",
    "print 'Adaptive time step: Max = ', tauMax, ' Min = ', tauMin\n",
    "\n",
    "#* Graph the time series x(t)\n",
    "plt.plot(tplot,xplot,'-')\n",
    "plt.xlabel('Time')\n",
    "plt.ylabel('x(t)')\n",
    "plt.title('Lorenz model time series')\n",
    "plt.show()"
   ]
  },
  {
   "cell_type": "code",
   "execution_count": null,
   "metadata": {
    "collapsed": false
   },
   "outputs": [],
   "source": [
    "#* Graph the x,y,z phase space trajectory\n",
    "# Mark the location of the three steady states\n",
    "x_ss = np.empty(3);  y_ss = np.empty(3);  z_ss = np.empty(3)\n",
    "x_ss[0] = 0.\n",
    "y_ss[0] = 0.\n",
    "z_ss[0] = 0.\n",
    "x_ss[1] = np.sqrt( b*(r-1.) )\n",
    "y_ss[1] = x_ss[1]\n",
    "z_ss[1] = r - 1.\n",
    "x_ss[2] = -np.sqrt( b*(r-1.) )\n",
    "y_ss[2] = x_ss[2]\n",
    "z_ss[2] = r - 1.\n",
    "\n",
    "from mpl_toolkits.mplot3d import Axes3D\n",
    "fig = plt.figure()\n",
    "ax = fig.gca(projection='3d')\n",
    "ax.plot(xplot, yplot, zplot ,'-')\n",
    "ax.plot(x_ss, y_ss, z_ss, '*')\n",
    "ax.set_xlabel('x')\n",
    "ax.set_ylabel('y')\n",
    "ax.set_zlabel('z')\n",
    "ax.set_title('Lorenz model phase space')\n",
    "plt.show()"
   ]
  }
 ],
 "metadata": {
  "anaconda-cloud": {},
  "kernelspec": {
   "display_name": "Python [default]",
   "language": "python",
   "name": "python2"
  },
  "language_info": {
   "codemirror_mode": {
    "name": "ipython",
    "version": 2
   },
   "file_extension": ".py",
   "mimetype": "text/x-python",
   "name": "python",
   "nbconvert_exporter": "python",
   "pygments_lexer": "ipython2",
   "version": "2.7.12"
  }
 },
 "nbformat": 4,
 "nbformat_minor": 1
}
