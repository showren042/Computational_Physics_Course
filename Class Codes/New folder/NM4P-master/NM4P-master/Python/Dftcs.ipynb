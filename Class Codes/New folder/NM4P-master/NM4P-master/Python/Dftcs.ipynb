{
 "cells": [
  {
   "cell_type": "code",
   "execution_count": null,
   "metadata": {
    "collapsed": false
   },
   "outputs": [],
   "source": [
    "# dftcs - Program to solve the diffusion equation \n",
    "# using the Forward Time Centered Space (FTCS) scheme.\n",
    "\n",
    "# Set up configuration options and special features\n",
    "import numpy as np\n",
    "import matplotlib.pyplot as plt"
   ]
  },
  {
   "cell_type": "code",
   "execution_count": null,
   "metadata": {
    "collapsed": false
   },
   "outputs": [],
   "source": [
    "#* Initialize parameters (time step, grid spacing, etc.).\n",
    "tau = input('Enter time step: ')\n",
    "N = input('Enter the number of grid points: ')\n",
    "L = 1.        # The system extends from x=-L/2 to x=L/2\n",
    "h = L/(N-1)   # Grid size\n",
    "kappa = 1.    # Diffusion coefficient\n",
    "coeff = kappa*tau/h**2\n",
    "if coeff < 0.5 :\n",
    "    print 'Solution is expected to be stable'\n",
    "else:\n",
    "    print 'WARNING: Solution is expected to be unstable'"
   ]
  },
  {
   "cell_type": "code",
   "execution_count": null,
   "metadata": {
    "collapsed": false
   },
   "outputs": [],
   "source": [
    "#* Set initial and boundary conditions.\n",
    "tt = np.zeros(N)                # Initialize temperature to zero at all points\n",
    "tt[int(N/2)] = 1./h             # Initial cond. is delta function in center\n",
    "## The boundary conditions are tt[0] = tt[N-1] = 0\n",
    "\n",
    "#* Set up loop and plot variables.\n",
    "xplot = np.arange(N)*h - L/2.    # Record the x scale for plots\n",
    "iplot = 0                        # Counter used to count plots\n",
    "nstep = 300                      # Maximum number of iterations\n",
    "nplots = 50                      # Number of snapshots (plots) to take\n",
    "plot_step = nstep/nplots         # Number of time steps between plots"
   ]
  },
  {
   "cell_type": "code",
   "execution_count": null,
   "metadata": {
    "collapsed": false
   },
   "outputs": [],
   "source": [
    "#* Loop over the desired number of time steps.\n",
    "ttplot = np.empty((N,nplots))\n",
    "tplot = np.empty(nplots)\n",
    "for istep in range(nstep):  ## MAIN LOOP ##\n",
    "    \n",
    "    #* Compute new temperature using FTCS scheme.\n",
    "    tt[1:(N-1)] = ( tt[1:(N-1)] + \n",
    "      coeff*( tt[2:N] + tt[0:(N-2)] - 2*tt[1:(N-1)] ) )\n",
    "    \n",
    "    #* Periodically record temperature for plotting.\n",
    "    if (istep+1) % plot_step < 1 :         # Every plot_step steps\n",
    "        ttplot[:,iplot] = np.copy(tt)      # record tt(i) for plotting\n",
    "        tplot[iplot] = (istep+1)*tau       # Record time for plots\n",
    "        iplot += 1"
   ]
  },
  {
   "cell_type": "code",
   "execution_count": null,
   "metadata": {
    "collapsed": false
   },
   "outputs": [],
   "source": [
    "#* Plot temperature versus x and t as a wire-mesh plot\n",
    "\n",
    "from matplotlib import cm\n",
    "from mpl_toolkits.mplot3d import Axes3D\n",
    "\n",
    "fig = plt.figure()\n",
    "ax = fig.gca(projection = '3d')\n",
    "Tp, Xp = np.meshgrid(tplot, xplot)\n",
    "ax.plot_surface(Tp, Xp, ttplot, rstride=2, cstride=2, cmap=cm.gray)\n",
    "ax.set_xlabel('Time')\n",
    "ax.set_ylabel('x')\n",
    "ax.set_zlabel('T(x,t)')\n",
    "ax.set_title('Diffusion of a delta spike')\n",
    "plt.show()"
   ]
  },
  {
   "cell_type": "code",
   "execution_count": null,
   "metadata": {
    "collapsed": false
   },
   "outputs": [],
   "source": [
    "#* Plot temperature versus x and t as a contour plot\n",
    "\n",
    "levels = np.linspace(0., 10., num=21) \n",
    "ct = plt.contour(tplot, xplot, ttplot, levels) \n",
    "plt.clabel(ct, fmt='%1.2f') \n",
    "plt.xlabel('Time')\n",
    "plt.ylabel('x')\n",
    "plt.title('Temperature contour plot')\n",
    "plt.show()"
   ]
  }
 ],
 "metadata": {
  "anaconda-cloud": {},
  "kernelspec": {
   "display_name": "Python [default]",
   "language": "python",
   "name": "python2"
  },
  "language_info": {
   "codemirror_mode": {
    "name": "ipython",
    "version": 2
   },
   "file_extension": ".py",
   "mimetype": "text/x-python",
   "name": "python",
   "nbconvert_exporter": "python",
   "pygments_lexer": "ipython2",
   "version": "2.7.12"
  }
 },
 "nbformat": 4,
 "nbformat_minor": 1
}
