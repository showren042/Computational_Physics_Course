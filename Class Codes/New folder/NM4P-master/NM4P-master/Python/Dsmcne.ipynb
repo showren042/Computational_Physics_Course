{
 "cells": [
  {
   "cell_type": "code",
   "execution_count": null,
   "metadata": {
    "collapsed": true
   },
   "outputs": [],
   "source": [
    "# dsmcne - Program to simulate a dilute gas using DSMC algorithm\n",
    "# This version simulates planar Couette flow\n",
    "\n",
    "# Set up configuration options and special features\n",
    "import numpy as np\n",
    "import matplotlib.pyplot as plt"
   ]
  },
  {
   "cell_type": "code",
   "execution_count": null,
   "metadata": {
    "collapsed": false
   },
   "outputs": [],
   "source": [
    "from nm4p.dsmc import sampList\n",
    "from nm4p.dsmc import sortList\n",
    "from nm4p.dsmc import sorter\n",
    "from nm4p.dsmc import colider\n",
    "from nm4p.dsmc import mover\n",
    "from nm4p.dsmc import sampler"
   ]
  },
  {
   "cell_type": "code",
   "execution_count": null,
   "metadata": {
    "collapsed": false
   },
   "outputs": [],
   "source": [
    "#* Initialize constants  (particle mass, diameter, etc.)\n",
    "boltz = 1.3806e-23     # Boltzmann's constant (J/K)\n",
    "mass = 6.63e-26        # Mass of argon atom (kg)\n",
    "diam = 3.66e-10        # Effective diameter of argon atom (m)\n",
    "T = 273.               # Temperature (K)\n",
    "density = 2.685e25     # Number density of argon at STP (m^-3)\n",
    "L = 1.e-6              # System size is one micron\n",
    "Volume = L**3          # Volume of the system (m^3)\n",
    "npart = input('Enter number of simulation particles: ')\n",
    "eff_num = density*Volume/npart\n",
    "print 'Each simulation particle represents ', eff_num, ' atoms'\n",
    "mfp = Volume/(np.sqrt(2.)*np.pi*diam**2*npart*eff_num)\n",
    "print 'System width is ', L/mfp, ' mean free paths'\n",
    "mpv = np.sqrt(2*boltz*T/mass)   # Most probable initial velocity \n",
    "vwall_m = input('Enter wall velocity as Mach number: ')\n",
    "vwall = vwall_m * np.sqrt(5./3. * boltz*T/mass)\n",
    "print 'Wall velocities are ', -vwall, ' and ', vwall, ' m/s'"
   ]
  },
  {
   "cell_type": "code",
   "execution_count": null,
   "metadata": {
    "collapsed": false
   },
   "outputs": [],
   "source": [
    "#* Assign random positions and velocities to particles\n",
    "np.random.seed(0)          # Initialize random number generator\n",
    "x = np.empty(npart)\n",
    "for i in range(npart) :\n",
    "    x[i] = np.random.uniform(0.,L)       # Assign random positions\n",
    "v = np.zeros((npart,3))     \n",
    "for i in range(npart) :\n",
    "    for j in range(3) :\n",
    "        # Assign thermal velocities using Gaussian random numbers\n",
    "        v[i,j] = np.sqrt(boltz*T/mass) * np.random.normal()\n",
    "    v[i,1] += 2. * vwall * x[i]/L - vwall   # Add velocity gradient"
   ]
  },
  {
   "cell_type": "code",
   "execution_count": null,
   "metadata": {
    "collapsed": false
   },
   "outputs": [],
   "source": [
    "#* Initialize variables used for evaluating collisions\n",
    "ncell = 20                       # Number of cells\n",
    "tau = 0.2*(L/ncell)/mpv          # Set timestep tau\n",
    "vrmax = 3*mpv*np.ones(ncell)     # Estimated max rel. speed in a cell\n",
    "selxtra = np.zeros(ncell)        # Used by collision routine \"colider\"\n",
    "coeff = 0.5*eff_num*np.pi*diam**2*tau/(Volume/ncell)"
   ]
  },
  {
   "cell_type": "code",
   "execution_count": null,
   "metadata": {
    "collapsed": false
   },
   "outputs": [],
   "source": [
    "#* Declare sortList object for lists used in sorting\n",
    "sortData = sortList(ncell, npart)\n",
    "\n",
    "#* Initialize object and variables used in statistical sampling\n",
    "sampData = sampList(ncell)\n",
    "tsamp = 0.                # Total sampling time\n",
    "dvtot = np.zeros(2)       # Total momentum change at a wall\n",
    "dverr = np.zeros(2)       # Used to find error in dvtot"
   ]
  },
  {
   "cell_type": "code",
   "execution_count": null,
   "metadata": {
    "collapsed": false
   },
   "outputs": [],
   "source": [
    "#* Loop for the desired number of time steps\n",
    "colSum = 0\n",
    "strikeSum = np.array([0, 0])\n",
    "nstep = input('Enter total number of time steps: ')\n",
    "for istep in range(nstep) :\n",
    "\n",
    "    #* Move all the particles \n",
    "    [ strikes, delv ] = mover(x,v,npart,L,mpv,vwall,tau)\n",
    "    strikeSum += strikes\n",
    "\n",
    "    #* Sort the particles into cells\n",
    "    sorter(x,L,sortData)\n",
    "  \n",
    "    #* Evaluate collisions among the particles\n",
    "    col = colider(v,vrmax,tau,selxtra,coeff,sortData)\n",
    "    colSum += col \n",
    "  \n",
    "    #* After initial transient, accumulate statistical samples\n",
    "    if istep > nstep/10 : \n",
    "        sampler(x,v,npart,L,sampData)\n",
    "        dvtot += delv\n",
    "        dverr += delv**2\n",
    "        tsamp += tau\n",
    "\n",
    "    #* Periodically display the current progress\n",
    "    if (istep+1) % 100 < 1 :\n",
    "        print 'Finished ', istep, ' of ', nstep, ' steps, Collisions = ',colSum\n",
    "        print 'Total wall strikes: ', strikeSum[0], ' (left)  ', strikeSum[1], ' (right)'"
   ]
  },
  {
   "cell_type": "code",
   "execution_count": null,
   "metadata": {
    "collapsed": false
   },
   "outputs": [],
   "source": [
    "#* Normalize the accumulated statistics\n",
    "nsamp = sampData.nsamp \n",
    "ave_n = (eff_num/(Volume/ncell))*sampData.ave_n/nsamp\n",
    "ave_u = np.empty((ncell,3))\n",
    "for i in range(3) :\n",
    "    ave_u[:,i] = sampData.ave_u[:,i]/nsamp\n",
    "ave_T = mass/(3*boltz) * (sampData.ave_T/nsamp)\n",
    "dverr = dverr/(nsamp-1) - (dvtot/nsamp)**2\n",
    "dverr = np.sqrt(dverr*nsamp)"
   ]
  },
  {
   "cell_type": "code",
   "execution_count": null,
   "metadata": {
    "collapsed": false
   },
   "outputs": [],
   "source": [
    "#* Compute viscosity from drag force on the walls\n",
    "force = (eff_num*mass*dvtot)/(tsamp*L**2)\n",
    "ferr = (eff_num*mass*dverr)/(tsamp *L**2)\n",
    "print 'Force per unit area is'\n",
    "print 'Left wall:   ', force[0], ' +/- ', ferr[0]  \n",
    "print 'Right wall:  ', force[1], ' +/- ', ferr[1]  \n",
    "vgrad = 2*vwall/L;  # Velocity gradient\n",
    "visc = 1./2.*(-force[0]+force[1])/vgrad   # Average viscosity\n",
    "viscerr = 1./2.*(ferr[0]+ferr[1])/vgrad   # Error\n",
    "print 'Viscosity = ', visc, ' +/- ', viscerr, ' N s/m^2'\n",
    "eta = 5.*np.pi/32.*mass*density*(2./np.sqrt(np.pi)*mpv)*mfp\n",
    "print 'Theoretical value of viscoisty is ', eta, ' N s/m^2'"
   ]
  },
  {
   "cell_type": "code",
   "execution_count": null,
   "metadata": {
    "collapsed": false
   },
   "outputs": [],
   "source": [
    "#* Plot average density, velocity and temperature\n",
    "xcell = (np.arange(ncell)+0.5)/ncell * L\n",
    "plt.plot(xcell,ave_n)           \n",
    "plt.xlabel('position')  \n",
    "plt.ylabel('Number density') \n",
    "plt.show()\n",
    "plt.plot(xcell,ave_u[:,0],xcell,ave_u[:,1],xcell,ave_u[:,2])           \n",
    "plt.xlabel('position')  \n",
    "plt.ylabel('Velocities')\n",
    "plt.legend(['x-component','y-component','z-component'])\n",
    "plt.show()\n",
    "plt.plot(xcell,ave_T)           \n",
    "plt.xlabel('position')  \n",
    "plt.ylabel('Temperature') \n",
    "plt.show()"
   ]
  }
 ],
 "metadata": {
  "anaconda-cloud": {},
  "kernelspec": {
   "display_name": "Python [default]",
   "language": "python",
   "name": "python2"
  },
  "language_info": {
   "codemirror_mode": {
    "name": "ipython",
    "version": 2
   },
   "file_extension": ".py",
   "mimetype": "text/x-python",
   "name": "python",
   "nbconvert_exporter": "python",
   "pygments_lexer": "ipython2",
   "version": "2.7.12"
  }
 },
 "nbformat": 4,
 "nbformat_minor": 1
}
